{
  "nbformat": 4,
  "nbformat_minor": 0,
  "metadata": {
    "kernelspec": {
      "display_name": "Python 3",
      "language": "python",
      "name": "python3"
    },
    "language_info": {
      "codemirror_mode": {
        "name": "ipython",
        "version": 3
      },
      "file_extension": ".py",
      "mimetype": "text/x-python",
      "name": "python",
      "nbconvert_exporter": "python",
      "pygments_lexer": "ipython3",
      "version": "3.7.4"
    },
    "colab": {
      "name": "BayesDirectoModelo.ipynb",
      "provenance": []
    }
  },
  "cells": [
    {
      "cell_type": "markdown",
      "metadata": {
        "id": "GZUMHyhw_pxa",
        "colab_type": "text"
      },
      "source": [
        "# EVALUACIÓN DE CLIENTES AUTOMOTICES NAIVE BAYES\n",
        "\n",
        "Carga de datos hisotoricos de clientes automotrices"
      ]
    },
    {
      "cell_type": "code",
      "metadata": {
        "id": "LpW0hl7Y_pyD",
        "colab_type": "code",
        "colab": {}
      },
      "source": [
        "import pandas as pd\n",
        "\n",
        "#df = pd.read_csv('C:\\\\Users\\\\Francisco\\\\Downloads\\\\DatosProyectoDirectoUso cambio persocupa.csv')\n",
        "df = pd.read_csv('Datos.csv')\n"
      ],
      "execution_count": 0,
      "outputs": []
    },
    {
      "cell_type": "markdown",
      "metadata": {
        "id": "oJ2RETgc_pyv",
        "colab_type": "text"
      },
      "source": [
        "id_rs:           ID de razón social del cliente.<br>\n",
        "Clase_Act:       ID tipo de actividad coercial del cliente.<br>\n",
        "Desc_Act:        Descripción de la actividad del cliente.<br>\n",
        "id_persocup:     ID que identifica el tamaño del comercio por número de empleados.<br>\n",
        "Pers_ocup:       Descripción del  tamaño del comercio por número de empleados.<br>\n",
        "id_modeloCierre: ID que identifica el modelo del vehiculo comprado.<br>\n",
        "TipoCenCom:      Descripción del tipo de centro comercial.<br>\n",
        "Centro_Com:      Descripción que indica si el comercio se encuentra en un centro comercial.<br>\n",
        "CVE_Ent:         Clave de Etidad Politica<br>\n",
        "Nom_Ent:         Nombre de la entidad politica.<br>\n",
        "Tipo_Estab:      Tipo de establecimiento Fijo o Semifijo (INEGI)<br>\n",
        "Code:            Codigo de Clase de actividad la nomenclatura utilizado por DENUE INEGI.<br>\n",
        "SECTOR:          Categoria de tipo de negocio la nomenclatura utilizado por DENUE INEGI<br>\n",
        "SUBSECTOR:       Subcategoria de tipo de negocio la nomenclatura utilizado por DENUE INEGI<br>\n",
        "NATIONAL INDUSTRY: Tipo de industria segun la nomenclatura utilizado por DENUE INEGI<br>\n",
        "INDUSTRY GROUP:   Agrupamiento por tipo de industria segun la nomenclatura utilizado por DENUE INEGI<br>\n",
        "INDUSTRY:         Tipo de industria la nomenclatura utilizado por DENUE INEGI <br>\n",
        "ANIO:             Año de compra.<br>\n",
        "MES:              Mes de compra.<br>\n",
        "volumen:          Número de unidades compradas.<br>\n",
        "Sistema de Clasificación Industrial de América del Norte, México SCIAN 2018\n",
        "https://www.inegi.org.mx/app/biblioteca/ficha.html?upc=702825099695"
      ]
    },
    {
      "cell_type": "code",
      "metadata": {
        "id": "KTb-yRv3_py6",
        "colab_type": "code",
        "colab": {
          "base_uri": "https://localhost:8080/",
          "height": 615
        },
        "outputId": "af32f85c-0ffe-4ce4-c2dc-71e4a38fac27"
      },
      "source": [
        "df.head()"
      ],
      "execution_count": 2,
      "outputs": [
        {
          "output_type": "execute_result",
          "data": {
            "text/html": [
              "<div>\n",
              "<style scoped>\n",
              "    .dataframe tbody tr th:only-of-type {\n",
              "        vertical-align: middle;\n",
              "    }\n",
              "\n",
              "    .dataframe tbody tr th {\n",
              "        vertical-align: top;\n",
              "    }\n",
              "\n",
              "    .dataframe thead th {\n",
              "        text-align: right;\n",
              "    }\n",
              "</style>\n",
              "<table border=\"1\" class=\"dataframe\">\n",
              "  <thead>\n",
              "    <tr style=\"text-align: right;\">\n",
              "      <th></th>\n",
              "      <th>id_rs</th>\n",
              "      <th>Clase_Act</th>\n",
              "      <th>Desc_Act</th>\n",
              "      <th>id_persocup</th>\n",
              "      <th>id_modeloCierre</th>\n",
              "      <th>Pers_ocup</th>\n",
              "      <th>TipoCenCom</th>\n",
              "      <th>Centro_Com</th>\n",
              "      <th>CVE_Ent</th>\n",
              "      <th>Nom_Ent</th>\n",
              "      <th>Cve_Mun</th>\n",
              "      <th>Nom_Mun</th>\n",
              "      <th>Cve_Loc</th>\n",
              "      <th>Nom_Loc</th>\n",
              "      <th>Tipo_estab</th>\n",
              "      <th>CODE</th>\n",
              "      <th>NATIONAL INDUSTRY</th>\n",
              "      <th>INDUSTRY</th>\n",
              "      <th>INDUSTRY GROUP</th>\n",
              "      <th>SUBSECTOR</th>\n",
              "      <th>SECTOR</th>\n",
              "      <th>ANIO</th>\n",
              "      <th>MES</th>\n",
              "      <th>volumen</th>\n",
              "      <th>modelo_cierre</th>\n",
              "    </tr>\n",
              "  </thead>\n",
              "  <tbody>\n",
              "    <tr>\n",
              "      <th>0</th>\n",
              "      <td>2721</td>\n",
              "      <td>237312</td>\n",
              "      <td>Construcción de carreteras, puentes y similares</td>\n",
              "      <td>1</td>\n",
              "      <td>2</td>\n",
              "      <td>0 a 5 personas</td>\n",
              "      <td>NaN</td>\n",
              "      <td>NaN</td>\n",
              "      <td>2</td>\n",
              "      <td>BAJA CALIFORNIA</td>\n",
              "      <td>2</td>\n",
              "      <td>Mexicali</td>\n",
              "      <td>1</td>\n",
              "      <td>Mexicali</td>\n",
              "      <td>Fijo</td>\n",
              "      <td>237312</td>\n",
              "      <td>Construction of highways, bridges and similar ...</td>\n",
              "      <td>Construction of roads, highways and similar works</td>\n",
              "      <td>Construction of roads, highways and similar works</td>\n",
              "      <td>Civil engineering construction works</td>\n",
              "      <td>Construction</td>\n",
              "      <td>2017</td>\n",
              "      <td>1</td>\n",
              "      <td>1</td>\n",
              "      <td>PICKUP_DOBLE_CABINA</td>\n",
              "    </tr>\n",
              "    <tr>\n",
              "      <th>1</th>\n",
              "      <td>1910</td>\n",
              "      <td>611171</td>\n",
              "      <td>Escuelas del sector privado que combinan diver...</td>\n",
              "      <td>5</td>\n",
              "      <td>2</td>\n",
              "      <td>51 a 100 personas</td>\n",
              "      <td>NaN</td>\n",
              "      <td>NaN</td>\n",
              "      <td>2</td>\n",
              "      <td>BAJA CALIFORNIA</td>\n",
              "      <td>4</td>\n",
              "      <td>Tijuana</td>\n",
              "      <td>1</td>\n",
              "      <td>Tijuana</td>\n",
              "      <td>Fijo</td>\n",
              "      <td>611171</td>\n",
              "      <td>Schools that combine multiple education levels...</td>\n",
              "      <td>Schools that combine multiple education levels</td>\n",
              "      <td>Basic, middle and special needs education schools</td>\n",
              "      <td>Educational services7</td>\n",
              "      <td>Educational services</td>\n",
              "      <td>2017</td>\n",
              "      <td>9</td>\n",
              "      <td>1</td>\n",
              "      <td>PICKUP_DOBLE_CABINA</td>\n",
              "    </tr>\n",
              "    <tr>\n",
              "      <th>2</th>\n",
              "      <td>9367</td>\n",
              "      <td>561310</td>\n",
              "      <td>Agencias de colocación</td>\n",
              "      <td>1</td>\n",
              "      <td>12</td>\n",
              "      <td>0 a 5 personas</td>\n",
              "      <td>EDIFICIO COMERCIAL Y DE SERVICIOS</td>\n",
              "      <td>NaN</td>\n",
              "      <td>1</td>\n",
              "      <td>AGUASCALIENTES</td>\n",
              "      <td>1</td>\n",
              "      <td>Aguascalientes</td>\n",
              "      <td>1</td>\n",
              "      <td>Aguascalientes</td>\n",
              "      <td>Fijo</td>\n",
              "      <td>561310</td>\n",
              "      <td>Employment agencies</td>\n",
              "      <td>Employment agencies</td>\n",
              "      <td>Employment services</td>\n",
              "      <td>Business support services</td>\n",
              "      <td>Business support services, waste management an...</td>\n",
              "      <td>2016</td>\n",
              "      <td>4</td>\n",
              "      <td>1</td>\n",
              "      <td>SEDAN_UTILITARIO</td>\n",
              "    </tr>\n",
              "    <tr>\n",
              "      <th>3</th>\n",
              "      <td>7326</td>\n",
              "      <td>434225</td>\n",
              "      <td>Comercio al por mayor de equipo y material elé...</td>\n",
              "      <td>2</td>\n",
              "      <td>6</td>\n",
              "      <td>6 a 10 personas</td>\n",
              "      <td>NaN</td>\n",
              "      <td>NaN</td>\n",
              "      <td>25</td>\n",
              "      <td>SINALOA</td>\n",
              "      <td>12</td>\n",
              "      <td>Mazatlán</td>\n",
              "      <td>1</td>\n",
              "      <td>Mazatlán</td>\n",
              "      <td>Fijo</td>\n",
              "      <td>434225</td>\n",
              "      <td>Wholesale trade of electric equipment and mate...</td>\n",
              "      <td>Wholesale trade of other construction material...</td>\n",
              "      <td>Wholesale trade of industrial raw materials</td>\n",
              "      <td>Wholesale trade of agricultural, forestry and ...</td>\n",
              "      <td>Wholesale trade</td>\n",
              "      <td>2017</td>\n",
              "      <td>11</td>\n",
              "      <td>1</td>\n",
              "      <td>HATCHBACK</td>\n",
              "    </tr>\n",
              "    <tr>\n",
              "      <th>4</th>\n",
              "      <td>1070</td>\n",
              "      <td>811111</td>\n",
              "      <td>Reparación mecánica en general de automóviles ...</td>\n",
              "      <td>2</td>\n",
              "      <td>2</td>\n",
              "      <td>6 a 10 personas</td>\n",
              "      <td>NaN</td>\n",
              "      <td>NaN</td>\n",
              "      <td>30</td>\n",
              "      <td>VERACRUZ DE IGNACIO DE LA LLAVE</td>\n",
              "      <td>211</td>\n",
              "      <td>San Rafael</td>\n",
              "      <td>1</td>\n",
              "      <td>San Rafael</td>\n",
              "      <td>Fijo</td>\n",
              "      <td>811111</td>\n",
              "      <td>General mechanical repair for automobiles and ...</td>\n",
              "      <td>Mechanical and electrical repair of automobile...</td>\n",
              "      <td>Repair and maintenance of automobiles and trucks</td>\n",
              "      <td>Repair and maintenance services</td>\n",
              "      <td>Other services, except government activities</td>\n",
              "      <td>2018</td>\n",
              "      <td>2</td>\n",
              "      <td>1</td>\n",
              "      <td>PICKUP_DOBLE_CABINA</td>\n",
              "    </tr>\n",
              "  </tbody>\n",
              "</table>\n",
              "</div>"
            ],
            "text/plain": [
              "   id_rs  Clase_Act  ... volumen        modelo_cierre\n",
              "0   2721     237312  ...       1  PICKUP_DOBLE_CABINA\n",
              "1   1910     611171  ...       1  PICKUP_DOBLE_CABINA\n",
              "2   9367     561310  ...       1     SEDAN_UTILITARIO\n",
              "3   7326     434225  ...       1            HATCHBACK\n",
              "4   1070     811111  ...       1  PICKUP_DOBLE_CABINA\n",
              "\n",
              "[5 rows x 25 columns]"
            ]
          },
          "metadata": {
            "tags": []
          },
          "execution_count": 2
        }
      ]
    },
    {
      "cell_type": "code",
      "metadata": {
        "id": "GYwJv3S9_pz6",
        "colab_type": "code",
        "colab": {
          "base_uri": "https://localhost:8080/",
          "height": 34
        },
        "outputId": "061887a8-c37c-420f-b89f-b78b9f3c0f09"
      },
      "source": [
        "\n",
        "df.shape"
      ],
      "execution_count": 3,
      "outputs": [
        {
          "output_type": "execute_result",
          "data": {
            "text/plain": [
              "(20529, 25)"
            ]
          },
          "metadata": {
            "tags": []
          },
          "execution_count": 3
        }
      ]
    },
    {
      "cell_type": "code",
      "metadata": {
        "id": "UFIlI0lz_p0n",
        "colab_type": "code",
        "colab": {}
      },
      "source": [
        "\n",
        "df2 = df.copy()"
      ],
      "execution_count": 0,
      "outputs": []
    },
    {
      "cell_type": "code",
      "metadata": {
        "id": "UEhVB7Th_p1G",
        "colab_type": "code",
        "colab": {
          "base_uri": "https://localhost:8080/",
          "height": 34
        },
        "outputId": "b24881f7-aedf-4442-cc10-09f2d1d7d28c"
      },
      "source": [
        "df2.shape"
      ],
      "execution_count": 5,
      "outputs": [
        {
          "output_type": "execute_result",
          "data": {
            "text/plain": [
              "(20529, 25)"
            ]
          },
          "metadata": {
            "tags": []
          },
          "execution_count": 5
        }
      ]
    },
    {
      "cell_type": "code",
      "metadata": {
        "id": "S6kI_PNt_p1o",
        "colab_type": "code",
        "colab": {}
      },
      "source": [
        "df2['modelo_cierre'] = df2['id_modeloCierre']"
      ],
      "execution_count": 0,
      "outputs": []
    },
    {
      "cell_type": "markdown",
      "metadata": {
        "id": "yeKgSLtO_p2a",
        "colab_type": "text"
      },
      "source": [
        "#### Limpieza del conjunto de datos\n",
        "* Los valores NaN de la edad se reemplazan por la media de la edad\n",
        "* Se elimina la columna de la cabina\n",
        "* Se eliminan los registros con valores faltantes"
      ]
    },
    {
      "cell_type": "code",
      "metadata": {
        "id": "opxUW90m_p2l",
        "colab_type": "code",
        "colab": {
          "base_uri": "https://localhost:8080/",
          "height": 615
        },
        "outputId": "40940cc4-206e-4293-ede2-5406b0e880c9"
      },
      "source": [
        "df2.Tipo_estab.unique()\n",
        "#datosLimpios = df2#.copy\n",
        "df2.head()"
      ],
      "execution_count": 7,
      "outputs": [
        {
          "output_type": "execute_result",
          "data": {
            "text/html": [
              "<div>\n",
              "<style scoped>\n",
              "    .dataframe tbody tr th:only-of-type {\n",
              "        vertical-align: middle;\n",
              "    }\n",
              "\n",
              "    .dataframe tbody tr th {\n",
              "        vertical-align: top;\n",
              "    }\n",
              "\n",
              "    .dataframe thead th {\n",
              "        text-align: right;\n",
              "    }\n",
              "</style>\n",
              "<table border=\"1\" class=\"dataframe\">\n",
              "  <thead>\n",
              "    <tr style=\"text-align: right;\">\n",
              "      <th></th>\n",
              "      <th>id_rs</th>\n",
              "      <th>Clase_Act</th>\n",
              "      <th>Desc_Act</th>\n",
              "      <th>id_persocup</th>\n",
              "      <th>id_modeloCierre</th>\n",
              "      <th>Pers_ocup</th>\n",
              "      <th>TipoCenCom</th>\n",
              "      <th>Centro_Com</th>\n",
              "      <th>CVE_Ent</th>\n",
              "      <th>Nom_Ent</th>\n",
              "      <th>Cve_Mun</th>\n",
              "      <th>Nom_Mun</th>\n",
              "      <th>Cve_Loc</th>\n",
              "      <th>Nom_Loc</th>\n",
              "      <th>Tipo_estab</th>\n",
              "      <th>CODE</th>\n",
              "      <th>NATIONAL INDUSTRY</th>\n",
              "      <th>INDUSTRY</th>\n",
              "      <th>INDUSTRY GROUP</th>\n",
              "      <th>SUBSECTOR</th>\n",
              "      <th>SECTOR</th>\n",
              "      <th>ANIO</th>\n",
              "      <th>MES</th>\n",
              "      <th>volumen</th>\n",
              "      <th>modelo_cierre</th>\n",
              "    </tr>\n",
              "  </thead>\n",
              "  <tbody>\n",
              "    <tr>\n",
              "      <th>0</th>\n",
              "      <td>2721</td>\n",
              "      <td>237312</td>\n",
              "      <td>Construcción de carreteras, puentes y similares</td>\n",
              "      <td>1</td>\n",
              "      <td>2</td>\n",
              "      <td>0 a 5 personas</td>\n",
              "      <td>NaN</td>\n",
              "      <td>NaN</td>\n",
              "      <td>2</td>\n",
              "      <td>BAJA CALIFORNIA</td>\n",
              "      <td>2</td>\n",
              "      <td>Mexicali</td>\n",
              "      <td>1</td>\n",
              "      <td>Mexicali</td>\n",
              "      <td>Fijo</td>\n",
              "      <td>237312</td>\n",
              "      <td>Construction of highways, bridges and similar ...</td>\n",
              "      <td>Construction of roads, highways and similar works</td>\n",
              "      <td>Construction of roads, highways and similar works</td>\n",
              "      <td>Civil engineering construction works</td>\n",
              "      <td>Construction</td>\n",
              "      <td>2017</td>\n",
              "      <td>1</td>\n",
              "      <td>1</td>\n",
              "      <td>2</td>\n",
              "    </tr>\n",
              "    <tr>\n",
              "      <th>1</th>\n",
              "      <td>1910</td>\n",
              "      <td>611171</td>\n",
              "      <td>Escuelas del sector privado que combinan diver...</td>\n",
              "      <td>5</td>\n",
              "      <td>2</td>\n",
              "      <td>51 a 100 personas</td>\n",
              "      <td>NaN</td>\n",
              "      <td>NaN</td>\n",
              "      <td>2</td>\n",
              "      <td>BAJA CALIFORNIA</td>\n",
              "      <td>4</td>\n",
              "      <td>Tijuana</td>\n",
              "      <td>1</td>\n",
              "      <td>Tijuana</td>\n",
              "      <td>Fijo</td>\n",
              "      <td>611171</td>\n",
              "      <td>Schools that combine multiple education levels...</td>\n",
              "      <td>Schools that combine multiple education levels</td>\n",
              "      <td>Basic, middle and special needs education schools</td>\n",
              "      <td>Educational services7</td>\n",
              "      <td>Educational services</td>\n",
              "      <td>2017</td>\n",
              "      <td>9</td>\n",
              "      <td>1</td>\n",
              "      <td>2</td>\n",
              "    </tr>\n",
              "    <tr>\n",
              "      <th>2</th>\n",
              "      <td>9367</td>\n",
              "      <td>561310</td>\n",
              "      <td>Agencias de colocación</td>\n",
              "      <td>1</td>\n",
              "      <td>12</td>\n",
              "      <td>0 a 5 personas</td>\n",
              "      <td>EDIFICIO COMERCIAL Y DE SERVICIOS</td>\n",
              "      <td>NaN</td>\n",
              "      <td>1</td>\n",
              "      <td>AGUASCALIENTES</td>\n",
              "      <td>1</td>\n",
              "      <td>Aguascalientes</td>\n",
              "      <td>1</td>\n",
              "      <td>Aguascalientes</td>\n",
              "      <td>Fijo</td>\n",
              "      <td>561310</td>\n",
              "      <td>Employment agencies</td>\n",
              "      <td>Employment agencies</td>\n",
              "      <td>Employment services</td>\n",
              "      <td>Business support services</td>\n",
              "      <td>Business support services, waste management an...</td>\n",
              "      <td>2016</td>\n",
              "      <td>4</td>\n",
              "      <td>1</td>\n",
              "      <td>12</td>\n",
              "    </tr>\n",
              "    <tr>\n",
              "      <th>3</th>\n",
              "      <td>7326</td>\n",
              "      <td>434225</td>\n",
              "      <td>Comercio al por mayor de equipo y material elé...</td>\n",
              "      <td>2</td>\n",
              "      <td>6</td>\n",
              "      <td>6 a 10 personas</td>\n",
              "      <td>NaN</td>\n",
              "      <td>NaN</td>\n",
              "      <td>25</td>\n",
              "      <td>SINALOA</td>\n",
              "      <td>12</td>\n",
              "      <td>Mazatlán</td>\n",
              "      <td>1</td>\n",
              "      <td>Mazatlán</td>\n",
              "      <td>Fijo</td>\n",
              "      <td>434225</td>\n",
              "      <td>Wholesale trade of electric equipment and mate...</td>\n",
              "      <td>Wholesale trade of other construction material...</td>\n",
              "      <td>Wholesale trade of industrial raw materials</td>\n",
              "      <td>Wholesale trade of agricultural, forestry and ...</td>\n",
              "      <td>Wholesale trade</td>\n",
              "      <td>2017</td>\n",
              "      <td>11</td>\n",
              "      <td>1</td>\n",
              "      <td>6</td>\n",
              "    </tr>\n",
              "    <tr>\n",
              "      <th>4</th>\n",
              "      <td>1070</td>\n",
              "      <td>811111</td>\n",
              "      <td>Reparación mecánica en general de automóviles ...</td>\n",
              "      <td>2</td>\n",
              "      <td>2</td>\n",
              "      <td>6 a 10 personas</td>\n",
              "      <td>NaN</td>\n",
              "      <td>NaN</td>\n",
              "      <td>30</td>\n",
              "      <td>VERACRUZ DE IGNACIO DE LA LLAVE</td>\n",
              "      <td>211</td>\n",
              "      <td>San Rafael</td>\n",
              "      <td>1</td>\n",
              "      <td>San Rafael</td>\n",
              "      <td>Fijo</td>\n",
              "      <td>811111</td>\n",
              "      <td>General mechanical repair for automobiles and ...</td>\n",
              "      <td>Mechanical and electrical repair of automobile...</td>\n",
              "      <td>Repair and maintenance of automobiles and trucks</td>\n",
              "      <td>Repair and maintenance services</td>\n",
              "      <td>Other services, except government activities</td>\n",
              "      <td>2018</td>\n",
              "      <td>2</td>\n",
              "      <td>1</td>\n",
              "      <td>2</td>\n",
              "    </tr>\n",
              "  </tbody>\n",
              "</table>\n",
              "</div>"
            ],
            "text/plain": [
              "   id_rs  Clase_Act  ... volumen  modelo_cierre\n",
              "0   2721     237312  ...       1              2\n",
              "1   1910     611171  ...       1              2\n",
              "2   9367     561310  ...       1             12\n",
              "3   7326     434225  ...       1              6\n",
              "4   1070     811111  ...       1              2\n",
              "\n",
              "[5 rows x 25 columns]"
            ]
          },
          "metadata": {
            "tags": []
          },
          "execution_count": 7
        }
      ]
    },
    {
      "cell_type": "code",
      "metadata": {
        "id": "pIrLqtUH_p3C",
        "colab_type": "code",
        "colab": {
          "base_uri": "https://localhost:8080/",
          "height": 390
        },
        "outputId": "5e7e9607-0070-4872-e581-ac4323aae07d"
      },
      "source": [
        "#datosLimpios = df2[df2.id_modeloCierre.isin([1,2,3,4,5,6,9,10,11,12])].copy().reset_index()\n",
        "df2 = df2.drop(df2[df2.id_modeloCierre.isin([7,8])].index).reindex()\n",
        "datosLimpios = df2.copy()\n",
        "datosLimpios.drop(\"TipoCenCom\",inplace=True,axis=1)\n",
        "datosLimpios.drop(\"Centro_Com\",inplace=True,axis=1)\n",
        "datosLimpios.drop(\"Desc_Act\",inplace=True,axis=1)\n",
        "datosLimpios.drop(\"Pers_ocup\",inplace=True,axis=1)\n",
        "datosLimpios.drop(\"Nom_Ent\",inplace=True,axis=1)\n",
        "datosLimpios.drop(\"NATIONAL INDUSTRY\",inplace=True,axis=1)\n",
        "datosLimpios.drop(\"INDUSTRY\",inplace=True,axis=1)\n",
        "datosLimpios.drop(\"INDUSTRY GROUP\",inplace=True,axis=1)\n",
        "datosLimpios.drop(\"SUBSECTOR\",inplace=True,axis=1)\n",
        "datosLimpios.drop(\"SECTOR\",inplace=True,axis=1)\n",
        "datosLimpios.drop(\"Cve_Mun\",inplace=True,axis=1)\n",
        "datosLimpios.drop(\"Nom_Mun\",inplace=True,axis=1)\n",
        "datosLimpios.drop(\"Cve_Loc\",inplace=True,axis=1)\n",
        "datosLimpios.drop(\"Nom_Loc\",inplace=True,axis=1)\n",
        "datosLimpios.drop(\"Tipo_estab\",inplace=True,axis=1)\n",
        "#datosLimpios.drop(\"id_rs\",inplace=True,axis=1)\n",
        "datosLimpios.drop(\"modelo_cierre\",inplace=True,axis=1)\n",
        "\n",
        "\n",
        "#Se retira el mes para solo considerar los vehiculos colocados por año\n",
        "#datosLimpios.drop(\"MES\",inplace=True,axis=1)\n",
        "\n",
        "#Solo se deja el tipo de industria con los primeros 3 caracteres que corresponden al sector y al subsector\n",
        "datosLimpios['tipoIndustria'] = datosLimpios['Clase_Act'].astype(str).str[:3].astype(int)\n",
        "datosLimpios.drop(\"Clase_Act\",inplace=True,axis=1)\n",
        "#df2[df2.id_modeloCierre.isin([1,2,3,4,5,6,9,10,11,12])].groupby('id_modeloCierre').count()\n",
        "datosLimpios.groupby('id_modeloCierre').count()\n",
        "#datosLimpios.head()"
      ],
      "execution_count": 8,
      "outputs": [
        {
          "output_type": "execute_result",
          "data": {
            "text/html": [
              "<div>\n",
              "<style scoped>\n",
              "    .dataframe tbody tr th:only-of-type {\n",
              "        vertical-align: middle;\n",
              "    }\n",
              "\n",
              "    .dataframe tbody tr th {\n",
              "        vertical-align: top;\n",
              "    }\n",
              "\n",
              "    .dataframe thead th {\n",
              "        text-align: right;\n",
              "    }\n",
              "</style>\n",
              "<table border=\"1\" class=\"dataframe\">\n",
              "  <thead>\n",
              "    <tr style=\"text-align: right;\">\n",
              "      <th></th>\n",
              "      <th>id_rs</th>\n",
              "      <th>id_persocup</th>\n",
              "      <th>CVE_Ent</th>\n",
              "      <th>CODE</th>\n",
              "      <th>ANIO</th>\n",
              "      <th>MES</th>\n",
              "      <th>volumen</th>\n",
              "      <th>tipoIndustria</th>\n",
              "    </tr>\n",
              "    <tr>\n",
              "      <th>id_modeloCierre</th>\n",
              "      <th></th>\n",
              "      <th></th>\n",
              "      <th></th>\n",
              "      <th></th>\n",
              "      <th></th>\n",
              "      <th></th>\n",
              "      <th></th>\n",
              "      <th></th>\n",
              "    </tr>\n",
              "  </thead>\n",
              "  <tbody>\n",
              "    <tr>\n",
              "      <th>1</th>\n",
              "      <td>1081</td>\n",
              "      <td>1081</td>\n",
              "      <td>1081</td>\n",
              "      <td>1081</td>\n",
              "      <td>1081</td>\n",
              "      <td>1081</td>\n",
              "      <td>1081</td>\n",
              "      <td>1081</td>\n",
              "    </tr>\n",
              "    <tr>\n",
              "      <th>2</th>\n",
              "      <td>7892</td>\n",
              "      <td>7892</td>\n",
              "      <td>7892</td>\n",
              "      <td>7892</td>\n",
              "      <td>7892</td>\n",
              "      <td>7892</td>\n",
              "      <td>7892</td>\n",
              "      <td>7892</td>\n",
              "    </tr>\n",
              "    <tr>\n",
              "      <th>3</th>\n",
              "      <td>1767</td>\n",
              "      <td>1767</td>\n",
              "      <td>1767</td>\n",
              "      <td>1767</td>\n",
              "      <td>1767</td>\n",
              "      <td>1767</td>\n",
              "      <td>1767</td>\n",
              "      <td>1767</td>\n",
              "    </tr>\n",
              "    <tr>\n",
              "      <th>4</th>\n",
              "      <td>902</td>\n",
              "      <td>902</td>\n",
              "      <td>902</td>\n",
              "      <td>902</td>\n",
              "      <td>902</td>\n",
              "      <td>902</td>\n",
              "      <td>902</td>\n",
              "      <td>902</td>\n",
              "    </tr>\n",
              "    <tr>\n",
              "      <th>5</th>\n",
              "      <td>688</td>\n",
              "      <td>688</td>\n",
              "      <td>688</td>\n",
              "      <td>688</td>\n",
              "      <td>688</td>\n",
              "      <td>688</td>\n",
              "      <td>688</td>\n",
              "      <td>688</td>\n",
              "    </tr>\n",
              "    <tr>\n",
              "      <th>6</th>\n",
              "      <td>2872</td>\n",
              "      <td>2872</td>\n",
              "      <td>2872</td>\n",
              "      <td>2872</td>\n",
              "      <td>2872</td>\n",
              "      <td>2872</td>\n",
              "      <td>2872</td>\n",
              "      <td>2872</td>\n",
              "    </tr>\n",
              "    <tr>\n",
              "      <th>9</th>\n",
              "      <td>1180</td>\n",
              "      <td>1180</td>\n",
              "      <td>1180</td>\n",
              "      <td>1180</td>\n",
              "      <td>1180</td>\n",
              "      <td>1180</td>\n",
              "      <td>1180</td>\n",
              "      <td>1180</td>\n",
              "    </tr>\n",
              "    <tr>\n",
              "      <th>10</th>\n",
              "      <td>923</td>\n",
              "      <td>923</td>\n",
              "      <td>923</td>\n",
              "      <td>923</td>\n",
              "      <td>923</td>\n",
              "      <td>923</td>\n",
              "      <td>923</td>\n",
              "      <td>923</td>\n",
              "    </tr>\n",
              "    <tr>\n",
              "      <th>11</th>\n",
              "      <td>908</td>\n",
              "      <td>908</td>\n",
              "      <td>908</td>\n",
              "      <td>908</td>\n",
              "      <td>908</td>\n",
              "      <td>908</td>\n",
              "      <td>908</td>\n",
              "      <td>908</td>\n",
              "    </tr>\n",
              "    <tr>\n",
              "      <th>12</th>\n",
              "      <td>2251</td>\n",
              "      <td>2251</td>\n",
              "      <td>2251</td>\n",
              "      <td>2251</td>\n",
              "      <td>2251</td>\n",
              "      <td>2251</td>\n",
              "      <td>2251</td>\n",
              "      <td>2251</td>\n",
              "    </tr>\n",
              "  </tbody>\n",
              "</table>\n",
              "</div>"
            ],
            "text/plain": [
              "                 id_rs  id_persocup  CVE_Ent  ...   MES  volumen  tipoIndustria\n",
              "id_modeloCierre                               ...                              \n",
              "1                 1081         1081     1081  ...  1081     1081           1081\n",
              "2                 7892         7892     7892  ...  7892     7892           7892\n",
              "3                 1767         1767     1767  ...  1767     1767           1767\n",
              "4                  902          902      902  ...   902      902            902\n",
              "5                  688          688      688  ...   688      688            688\n",
              "6                 2872         2872     2872  ...  2872     2872           2872\n",
              "9                 1180         1180     1180  ...  1180     1180           1180\n",
              "10                 923          923      923  ...   923      923            923\n",
              "11                 908          908      908  ...   908      908            908\n",
              "12                2251         2251     2251  ...  2251     2251           2251\n",
              "\n",
              "[10 rows x 8 columns]"
            ]
          },
          "metadata": {
            "tags": []
          },
          "execution_count": 8
        }
      ]
    },
    {
      "cell_type": "markdown",
      "metadata": {
        "id": "JtERMO9t_p3k",
        "colab_type": "text"
      },
      "source": [
        "Se cambian los valores categóricos a valores numéricos (binarización)"
      ]
    },
    {
      "cell_type": "code",
      "metadata": {
        "id": "t0P6TpTR_p3u",
        "colab_type": "code",
        "colab": {
          "base_uri": "https://localhost:8080/",
          "height": 224
        },
        "outputId": "42f25e6c-ab59-46cd-8d5b-e02b44c5215f"
      },
      "source": [
        "#datosLimpios['Tipo_estab'] =  datosLimpios['Tipo_estab']\n",
        "Tipo_estab = pd.get_dummies(df2[\"Tipo_estab\"],drop_first=True)\n",
        "\n",
        "\n",
        "datosLimpios = pd.concat([datosLimpios,Tipo_estab],axis=1)\n",
        "datosLimpios.head(5)\n",
        "#datosLimpios.shape\n",
        "#datosLimpios.groupby('id_modeloCierre','Clase_Act','id_persocup','id_modeloCierre','CVE_Ent','CODE','MES','Semifijo').sum().head(5)"
      ],
      "execution_count": 9,
      "outputs": [
        {
          "output_type": "execute_result",
          "data": {
            "text/html": [
              "<div>\n",
              "<style scoped>\n",
              "    .dataframe tbody tr th:only-of-type {\n",
              "        vertical-align: middle;\n",
              "    }\n",
              "\n",
              "    .dataframe tbody tr th {\n",
              "        vertical-align: top;\n",
              "    }\n",
              "\n",
              "    .dataframe thead th {\n",
              "        text-align: right;\n",
              "    }\n",
              "</style>\n",
              "<table border=\"1\" class=\"dataframe\">\n",
              "  <thead>\n",
              "    <tr style=\"text-align: right;\">\n",
              "      <th></th>\n",
              "      <th>id_rs</th>\n",
              "      <th>id_persocup</th>\n",
              "      <th>id_modeloCierre</th>\n",
              "      <th>CVE_Ent</th>\n",
              "      <th>CODE</th>\n",
              "      <th>ANIO</th>\n",
              "      <th>MES</th>\n",
              "      <th>volumen</th>\n",
              "      <th>tipoIndustria</th>\n",
              "      <th>Semifijo</th>\n",
              "    </tr>\n",
              "  </thead>\n",
              "  <tbody>\n",
              "    <tr>\n",
              "      <th>0</th>\n",
              "      <td>2721</td>\n",
              "      <td>1</td>\n",
              "      <td>2</td>\n",
              "      <td>2</td>\n",
              "      <td>237312</td>\n",
              "      <td>2017</td>\n",
              "      <td>1</td>\n",
              "      <td>1</td>\n",
              "      <td>237</td>\n",
              "      <td>0</td>\n",
              "    </tr>\n",
              "    <tr>\n",
              "      <th>1</th>\n",
              "      <td>1910</td>\n",
              "      <td>5</td>\n",
              "      <td>2</td>\n",
              "      <td>2</td>\n",
              "      <td>611171</td>\n",
              "      <td>2017</td>\n",
              "      <td>9</td>\n",
              "      <td>1</td>\n",
              "      <td>611</td>\n",
              "      <td>0</td>\n",
              "    </tr>\n",
              "    <tr>\n",
              "      <th>2</th>\n",
              "      <td>9367</td>\n",
              "      <td>1</td>\n",
              "      <td>12</td>\n",
              "      <td>1</td>\n",
              "      <td>561310</td>\n",
              "      <td>2016</td>\n",
              "      <td>4</td>\n",
              "      <td>1</td>\n",
              "      <td>561</td>\n",
              "      <td>0</td>\n",
              "    </tr>\n",
              "    <tr>\n",
              "      <th>3</th>\n",
              "      <td>7326</td>\n",
              "      <td>2</td>\n",
              "      <td>6</td>\n",
              "      <td>25</td>\n",
              "      <td>434225</td>\n",
              "      <td>2017</td>\n",
              "      <td>11</td>\n",
              "      <td>1</td>\n",
              "      <td>434</td>\n",
              "      <td>0</td>\n",
              "    </tr>\n",
              "    <tr>\n",
              "      <th>4</th>\n",
              "      <td>1070</td>\n",
              "      <td>2</td>\n",
              "      <td>2</td>\n",
              "      <td>30</td>\n",
              "      <td>811111</td>\n",
              "      <td>2018</td>\n",
              "      <td>2</td>\n",
              "      <td>1</td>\n",
              "      <td>811</td>\n",
              "      <td>0</td>\n",
              "    </tr>\n",
              "  </tbody>\n",
              "</table>\n",
              "</div>"
            ],
            "text/plain": [
              "   id_rs  id_persocup  id_modeloCierre  ...  volumen  tipoIndustria  Semifijo\n",
              "0   2721            1                2  ...        1            237         0\n",
              "1   1910            5                2  ...        1            611         0\n",
              "2   9367            1               12  ...        1            561         0\n",
              "3   7326            2                6  ...        1            434         0\n",
              "4   1070            2                2  ...        1            811         0\n",
              "\n",
              "[5 rows x 10 columns]"
            ]
          },
          "metadata": {
            "tags": []
          },
          "execution_count": 9
        }
      ]
    },
    {
      "cell_type": "code",
      "metadata": {
        "id": "DKpiwoRD_p4M",
        "colab_type": "code",
        "colab": {}
      },
      "source": [
        "#Agrupando volumen\n",
        "b = datosLimpios[[\"id_rs\",\"tipoIndustria\",\"id_modeloCierre\",\"id_persocup\",\"CVE_Ent\",\"ANIO\",\"MES\",\"Semifijo\",\"volumen\"]].copy().reset_index()\n",
        "b[\"nuevoID\"] = b[\"tipoIndustria\"].astype(str)+\"_\"+ b[\"id_modeloCierre\"].astype(str)+\"_\"+b[\"volumen\"].astype(str)\n"
      ],
      "execution_count": 0,
      "outputs": []
    },
    {
      "cell_type": "code",
      "metadata": {
        "id": "avsDaHdq_p4s",
        "colab_type": "code",
        "colab": {
          "base_uri": "https://localhost:8080/",
          "height": 224
        },
        "outputId": "96012213-b967-49c0-863d-9abe195491d2"
      },
      "source": [
        "#ELIMINAMOS ANIO PARA NO CONSIDERARLO COMO CRITERIO\n",
        "b.drop(\"ANIO\",inplace=True,axis=1)\n",
        "b.drop(\"id_rs\",inplace=True,axis=1)\n",
        "b.drop(\"MES\",inplace=True,axis=1)\n",
        "b.head(5)\n"
      ],
      "execution_count": 11,
      "outputs": [
        {
          "output_type": "execute_result",
          "data": {
            "text/html": [
              "<div>\n",
              "<style scoped>\n",
              "    .dataframe tbody tr th:only-of-type {\n",
              "        vertical-align: middle;\n",
              "    }\n",
              "\n",
              "    .dataframe tbody tr th {\n",
              "        vertical-align: top;\n",
              "    }\n",
              "\n",
              "    .dataframe thead th {\n",
              "        text-align: right;\n",
              "    }\n",
              "</style>\n",
              "<table border=\"1\" class=\"dataframe\">\n",
              "  <thead>\n",
              "    <tr style=\"text-align: right;\">\n",
              "      <th></th>\n",
              "      <th>index</th>\n",
              "      <th>tipoIndustria</th>\n",
              "      <th>id_modeloCierre</th>\n",
              "      <th>id_persocup</th>\n",
              "      <th>CVE_Ent</th>\n",
              "      <th>Semifijo</th>\n",
              "      <th>volumen</th>\n",
              "      <th>nuevoID</th>\n",
              "    </tr>\n",
              "  </thead>\n",
              "  <tbody>\n",
              "    <tr>\n",
              "      <th>0</th>\n",
              "      <td>0</td>\n",
              "      <td>237</td>\n",
              "      <td>2</td>\n",
              "      <td>1</td>\n",
              "      <td>2</td>\n",
              "      <td>0</td>\n",
              "      <td>1</td>\n",
              "      <td>237_2_1</td>\n",
              "    </tr>\n",
              "    <tr>\n",
              "      <th>1</th>\n",
              "      <td>1</td>\n",
              "      <td>611</td>\n",
              "      <td>2</td>\n",
              "      <td>5</td>\n",
              "      <td>2</td>\n",
              "      <td>0</td>\n",
              "      <td>1</td>\n",
              "      <td>611_2_1</td>\n",
              "    </tr>\n",
              "    <tr>\n",
              "      <th>2</th>\n",
              "      <td>2</td>\n",
              "      <td>561</td>\n",
              "      <td>12</td>\n",
              "      <td>1</td>\n",
              "      <td>1</td>\n",
              "      <td>0</td>\n",
              "      <td>1</td>\n",
              "      <td>561_12_1</td>\n",
              "    </tr>\n",
              "    <tr>\n",
              "      <th>3</th>\n",
              "      <td>3</td>\n",
              "      <td>434</td>\n",
              "      <td>6</td>\n",
              "      <td>2</td>\n",
              "      <td>25</td>\n",
              "      <td>0</td>\n",
              "      <td>1</td>\n",
              "      <td>434_6_1</td>\n",
              "    </tr>\n",
              "    <tr>\n",
              "      <th>4</th>\n",
              "      <td>4</td>\n",
              "      <td>811</td>\n",
              "      <td>2</td>\n",
              "      <td>2</td>\n",
              "      <td>30</td>\n",
              "      <td>0</td>\n",
              "      <td>1</td>\n",
              "      <td>811_2_1</td>\n",
              "    </tr>\n",
              "  </tbody>\n",
              "</table>\n",
              "</div>"
            ],
            "text/plain": [
              "   index  tipoIndustria  id_modeloCierre  ...  Semifijo  volumen   nuevoID\n",
              "0      0            237                2  ...         0        1   237_2_1\n",
              "1      1            611                2  ...         0        1   611_2_1\n",
              "2      2            561               12  ...         0        1  561_12_1\n",
              "3      3            434                6  ...         0        1   434_6_1\n",
              "4      4            811                2  ...         0        1   811_2_1\n",
              "\n",
              "[5 rows x 8 columns]"
            ]
          },
          "metadata": {
            "tags": []
          },
          "execution_count": 11
        }
      ]
    },
    {
      "cell_type": "markdown",
      "metadata": {
        "id": "mm_poatt_p5K",
        "colab_type": "text"
      },
      "source": [
        "### Los datos no estan valanceados, la mayoria de las compras son de Pickups "
      ]
    },
    {
      "cell_type": "code",
      "metadata": {
        "id": "mQG2St3X_p5U",
        "colab_type": "code",
        "colab": {
          "base_uri": "https://localhost:8080/",
          "height": 658
        },
        "outputId": "65981933-9245-4aa3-dcff-49b89c6bb390"
      },
      "source": [
        "b['id_modeloCierre'].hist()\n",
        "b.groupby('id_modeloCierre').count()"
      ],
      "execution_count": 12,
      "outputs": [
        {
          "output_type": "execute_result",
          "data": {
            "text/html": [
              "<div>\n",
              "<style scoped>\n",
              "    .dataframe tbody tr th:only-of-type {\n",
              "        vertical-align: middle;\n",
              "    }\n",
              "\n",
              "    .dataframe tbody tr th {\n",
              "        vertical-align: top;\n",
              "    }\n",
              "\n",
              "    .dataframe thead th {\n",
              "        text-align: right;\n",
              "    }\n",
              "</style>\n",
              "<table border=\"1\" class=\"dataframe\">\n",
              "  <thead>\n",
              "    <tr style=\"text-align: right;\">\n",
              "      <th></th>\n",
              "      <th>index</th>\n",
              "      <th>tipoIndustria</th>\n",
              "      <th>id_persocup</th>\n",
              "      <th>CVE_Ent</th>\n",
              "      <th>Semifijo</th>\n",
              "      <th>volumen</th>\n",
              "      <th>nuevoID</th>\n",
              "    </tr>\n",
              "    <tr>\n",
              "      <th>id_modeloCierre</th>\n",
              "      <th></th>\n",
              "      <th></th>\n",
              "      <th></th>\n",
              "      <th></th>\n",
              "      <th></th>\n",
              "      <th></th>\n",
              "      <th></th>\n",
              "    </tr>\n",
              "  </thead>\n",
              "  <tbody>\n",
              "    <tr>\n",
              "      <th>1</th>\n",
              "      <td>1081</td>\n",
              "      <td>1081</td>\n",
              "      <td>1081</td>\n",
              "      <td>1081</td>\n",
              "      <td>1081</td>\n",
              "      <td>1081</td>\n",
              "      <td>1081</td>\n",
              "    </tr>\n",
              "    <tr>\n",
              "      <th>2</th>\n",
              "      <td>7892</td>\n",
              "      <td>7892</td>\n",
              "      <td>7892</td>\n",
              "      <td>7892</td>\n",
              "      <td>7892</td>\n",
              "      <td>7892</td>\n",
              "      <td>7892</td>\n",
              "    </tr>\n",
              "    <tr>\n",
              "      <th>3</th>\n",
              "      <td>1767</td>\n",
              "      <td>1767</td>\n",
              "      <td>1767</td>\n",
              "      <td>1767</td>\n",
              "      <td>1767</td>\n",
              "      <td>1767</td>\n",
              "      <td>1767</td>\n",
              "    </tr>\n",
              "    <tr>\n",
              "      <th>4</th>\n",
              "      <td>902</td>\n",
              "      <td>902</td>\n",
              "      <td>902</td>\n",
              "      <td>902</td>\n",
              "      <td>902</td>\n",
              "      <td>902</td>\n",
              "      <td>902</td>\n",
              "    </tr>\n",
              "    <tr>\n",
              "      <th>5</th>\n",
              "      <td>688</td>\n",
              "      <td>688</td>\n",
              "      <td>688</td>\n",
              "      <td>688</td>\n",
              "      <td>688</td>\n",
              "      <td>688</td>\n",
              "      <td>688</td>\n",
              "    </tr>\n",
              "    <tr>\n",
              "      <th>6</th>\n",
              "      <td>2872</td>\n",
              "      <td>2872</td>\n",
              "      <td>2872</td>\n",
              "      <td>2872</td>\n",
              "      <td>2872</td>\n",
              "      <td>2872</td>\n",
              "      <td>2872</td>\n",
              "    </tr>\n",
              "    <tr>\n",
              "      <th>9</th>\n",
              "      <td>1180</td>\n",
              "      <td>1180</td>\n",
              "      <td>1180</td>\n",
              "      <td>1180</td>\n",
              "      <td>1180</td>\n",
              "      <td>1180</td>\n",
              "      <td>1180</td>\n",
              "    </tr>\n",
              "    <tr>\n",
              "      <th>10</th>\n",
              "      <td>923</td>\n",
              "      <td>923</td>\n",
              "      <td>923</td>\n",
              "      <td>923</td>\n",
              "      <td>923</td>\n",
              "      <td>923</td>\n",
              "      <td>923</td>\n",
              "    </tr>\n",
              "    <tr>\n",
              "      <th>11</th>\n",
              "      <td>908</td>\n",
              "      <td>908</td>\n",
              "      <td>908</td>\n",
              "      <td>908</td>\n",
              "      <td>908</td>\n",
              "      <td>908</td>\n",
              "      <td>908</td>\n",
              "    </tr>\n",
              "    <tr>\n",
              "      <th>12</th>\n",
              "      <td>2251</td>\n",
              "      <td>2251</td>\n",
              "      <td>2251</td>\n",
              "      <td>2251</td>\n",
              "      <td>2251</td>\n",
              "      <td>2251</td>\n",
              "      <td>2251</td>\n",
              "    </tr>\n",
              "  </tbody>\n",
              "</table>\n",
              "</div>"
            ],
            "text/plain": [
              "                 index  tipoIndustria  id_persocup  ...  Semifijo  volumen  nuevoID\n",
              "id_modeloCierre                                     ...                            \n",
              "1                 1081           1081         1081  ...      1081     1081     1081\n",
              "2                 7892           7892         7892  ...      7892     7892     7892\n",
              "3                 1767           1767         1767  ...      1767     1767     1767\n",
              "4                  902            902          902  ...       902      902      902\n",
              "5                  688            688          688  ...       688      688      688\n",
              "6                 2872           2872         2872  ...      2872     2872     2872\n",
              "9                 1180           1180         1180  ...      1180     1180     1180\n",
              "10                 923            923          923  ...       923      923      923\n",
              "11                 908            908          908  ...       908      908      908\n",
              "12                2251           2251         2251  ...      2251     2251     2251\n",
              "\n",
              "[10 rows x 7 columns]"
            ]
          },
          "metadata": {
            "tags": []
          },
          "execution_count": 12
        },
        {
          "output_type": "display_data",
          "data": {
            "image/png": "[encoded data removed]",
            "text/plain": [
              "<Figure size 432x288 with 1 Axes>"
            ]
          },
          "metadata": {
            "tags": []
          }
        }
      ]
    },
    {
      "cell_type": "code",
      "metadata": {
        "id": "ii3WoFC-_p5v",
        "colab_type": "code",
        "colab": {
          "base_uri": "https://localhost:8080/",
          "height": 136
        },
        "outputId": "06f60739-fd01-4625-f251-bf8827aea51d"
      },
      "source": [
        "b[[\"tipoIndustria\",\"id_persocup\",\"CVE_Ent\",\"Semifijo\",\"volumen\"]].to_numpy()\n",
        "\n"
      ],
      "execution_count": 13,
      "outputs": [
        {
          "output_type": "execute_result",
          "data": {
            "text/plain": [
              "array([[237,   1,   2,   0,   1],\n",
              "       [611,   5,   2,   0,   1],\n",
              "       [561,   1,   1,   0,   1],\n",
              "       ...,\n",
              "       [811,   4,   5,   0,   3],\n",
              "       [811,   4,   5,   0,   3],\n",
              "       [434,   1,   8,   0,   1]])"
            ]
          },
          "metadata": {
            "tags": []
          },
          "execution_count": 13
        }
      ]
    },
    {
      "cell_type": "code",
      "metadata": {
        "id": "rvF0mSC9_p6N",
        "colab_type": "code",
        "colab": {
          "base_uri": "https://localhost:8080/",
          "height": 439
        },
        "outputId": "f3f16606-b56a-4de7-de63-35cab6a8a3ac"
      },
      "source": [
        "b"
      ],
      "execution_count": 14,
      "outputs": [
        {
          "output_type": "execute_result",
          "data": {
            "text/html": [
              "<div>\n",
              "<style scoped>\n",
              "    .dataframe tbody tr th:only-of-type {\n",
              "        vertical-align: middle;\n",
              "    }\n",
              "\n",
              "    .dataframe tbody tr th {\n",
              "        vertical-align: top;\n",
              "    }\n",
              "\n",
              "    .dataframe thead th {\n",
              "        text-align: right;\n",
              "    }\n",
              "</style>\n",
              "<table border=\"1\" class=\"dataframe\">\n",
              "  <thead>\n",
              "    <tr style=\"text-align: right;\">\n",
              "      <th></th>\n",
              "      <th>index</th>\n",
              "      <th>tipoIndustria</th>\n",
              "      <th>id_modeloCierre</th>\n",
              "      <th>id_persocup</th>\n",
              "      <th>CVE_Ent</th>\n",
              "      <th>Semifijo</th>\n",
              "      <th>volumen</th>\n",
              "      <th>nuevoID</th>\n",
              "    </tr>\n",
              "  </thead>\n",
              "  <tbody>\n",
              "    <tr>\n",
              "      <th>0</th>\n",
              "      <td>0</td>\n",
              "      <td>237</td>\n",
              "      <td>2</td>\n",
              "      <td>1</td>\n",
              "      <td>2</td>\n",
              "      <td>0</td>\n",
              "      <td>1</td>\n",
              "      <td>237_2_1</td>\n",
              "    </tr>\n",
              "    <tr>\n",
              "      <th>1</th>\n",
              "      <td>1</td>\n",
              "      <td>611</td>\n",
              "      <td>2</td>\n",
              "      <td>5</td>\n",
              "      <td>2</td>\n",
              "      <td>0</td>\n",
              "      <td>1</td>\n",
              "      <td>611_2_1</td>\n",
              "    </tr>\n",
              "    <tr>\n",
              "      <th>2</th>\n",
              "      <td>2</td>\n",
              "      <td>561</td>\n",
              "      <td>12</td>\n",
              "      <td>1</td>\n",
              "      <td>1</td>\n",
              "      <td>0</td>\n",
              "      <td>1</td>\n",
              "      <td>561_12_1</td>\n",
              "    </tr>\n",
              "    <tr>\n",
              "      <th>3</th>\n",
              "      <td>3</td>\n",
              "      <td>434</td>\n",
              "      <td>6</td>\n",
              "      <td>2</td>\n",
              "      <td>25</td>\n",
              "      <td>0</td>\n",
              "      <td>1</td>\n",
              "      <td>434_6_1</td>\n",
              "    </tr>\n",
              "    <tr>\n",
              "      <th>4</th>\n",
              "      <td>4</td>\n",
              "      <td>811</td>\n",
              "      <td>2</td>\n",
              "      <td>2</td>\n",
              "      <td>30</td>\n",
              "      <td>0</td>\n",
              "      <td>1</td>\n",
              "      <td>811_2_1</td>\n",
              "    </tr>\n",
              "    <tr>\n",
              "      <th>...</th>\n",
              "      <td>...</td>\n",
              "      <td>...</td>\n",
              "      <td>...</td>\n",
              "      <td>...</td>\n",
              "      <td>...</td>\n",
              "      <td>...</td>\n",
              "      <td>...</td>\n",
              "      <td>...</td>\n",
              "    </tr>\n",
              "    <tr>\n",
              "      <th>20459</th>\n",
              "      <td>20524</td>\n",
              "      <td>435</td>\n",
              "      <td>6</td>\n",
              "      <td>1</td>\n",
              "      <td>24</td>\n",
              "      <td>0</td>\n",
              "      <td>1</td>\n",
              "      <td>435_6_1</td>\n",
              "    </tr>\n",
              "    <tr>\n",
              "      <th>20460</th>\n",
              "      <td>20525</td>\n",
              "      <td>811</td>\n",
              "      <td>2</td>\n",
              "      <td>4</td>\n",
              "      <td>5</td>\n",
              "      <td>0</td>\n",
              "      <td>3</td>\n",
              "      <td>811_2_3</td>\n",
              "    </tr>\n",
              "    <tr>\n",
              "      <th>20461</th>\n",
              "      <td>20526</td>\n",
              "      <td>811</td>\n",
              "      <td>2</td>\n",
              "      <td>4</td>\n",
              "      <td>5</td>\n",
              "      <td>0</td>\n",
              "      <td>3</td>\n",
              "      <td>811_2_3</td>\n",
              "    </tr>\n",
              "    <tr>\n",
              "      <th>20462</th>\n",
              "      <td>20527</td>\n",
              "      <td>811</td>\n",
              "      <td>2</td>\n",
              "      <td>4</td>\n",
              "      <td>5</td>\n",
              "      <td>0</td>\n",
              "      <td>3</td>\n",
              "      <td>811_2_3</td>\n",
              "    </tr>\n",
              "    <tr>\n",
              "      <th>20463</th>\n",
              "      <td>20528</td>\n",
              "      <td>434</td>\n",
              "      <td>2</td>\n",
              "      <td>1</td>\n",
              "      <td>8</td>\n",
              "      <td>0</td>\n",
              "      <td>1</td>\n",
              "      <td>434_2_1</td>\n",
              "    </tr>\n",
              "  </tbody>\n",
              "</table>\n",
              "<p>20464 rows × 8 columns</p>\n",
              "</div>"
            ],
            "text/plain": [
              "       index  tipoIndustria  id_modeloCierre  ...  Semifijo  volumen   nuevoID\n",
              "0          0            237                2  ...         0        1   237_2_1\n",
              "1          1            611                2  ...         0        1   611_2_1\n",
              "2          2            561               12  ...         0        1  561_12_1\n",
              "3          3            434                6  ...         0        1   434_6_1\n",
              "4          4            811                2  ...         0        1   811_2_1\n",
              "...      ...            ...              ...  ...       ...      ...       ...\n",
              "20459  20524            435                6  ...         0        1   435_6_1\n",
              "20460  20525            811                2  ...         0        3   811_2_3\n",
              "20461  20526            811                2  ...         0        3   811_2_3\n",
              "20462  20527            811                2  ...         0        3   811_2_3\n",
              "20463  20528            434                2  ...         0        1   434_2_1\n",
              "\n",
              "[20464 rows x 8 columns]"
            ]
          },
          "metadata": {
            "tags": []
          },
          "execution_count": 14
        }
      ]
    },
    {
      "cell_type": "markdown",
      "metadata": {
        "id": "Q3dbRcd1_p60",
        "colab_type": "text"
      },
      "source": [
        "## Generación del modelo\n",
        "Donde se utilizara la validación por cruce de k-pliegues estratificado, ya que los datos no estan equilibrados. "
      ]
    },
    {
      "cell_type": "code",
      "metadata": {
        "id": "KCZpOXPa_p69",
        "colab_type": "code",
        "colab": {
          "base_uri": "https://localhost:8080/",
          "height": 51
        },
        "outputId": "ad34eb12-eab2-46e0-b8be-0e818b625835"
      },
      "source": [
        "from sklearn.model_selection import StratifiedKFold\n",
        "from sklearn.naive_bayes import GaussianNB\n",
        "import numpy as np\n",
        "\n",
        "metricas = []\n",
        "modelo = GaussianNB()\n",
        "mejor_modelo = modelo\n",
        "mejor_evaluacion = float('inf')\n",
        "atributos =  b[[\"tipoIndustria\",\"id_persocup\"]]\n",
        "etiquetas = b[\"id_modeloCierre\"]\n",
        "skf = StratifiedKFold(n_splits = 30)\n",
        "\n",
        "for entrenamiento, prueba in skf.split(atributos,etiquetas):\n",
        "    X_entrenamiento = atributos.iloc[entrenamiento]\n",
        "    X_prueba        = atributos.iloc[prueba]\n",
        "    y_entrenamiento = etiquetas[entrenamiento]\n",
        "    y_prueba        = etiquetas[prueba]\n",
        "    \n",
        "    modelo.fit(X_entrenamiento,y_entrenamiento)\n",
        "    metrica = modelo.score(X_prueba,y_prueba)\n",
        "    \n",
        "    if metrica < mejor_evaluacion:\n",
        "        mejor_modelo     = modelo\n",
        "        mejor_evaluacion = metrica\n",
        "    \n",
        "    metricas.append(metrica)\n",
        "\n",
        "print('Evaluación promedio:', np.mean(metricas))\n",
        "\n",
        "exactitud_prueba = mejor_modelo.score(X_prueba,y_prueba)\n",
        "print('Prueba:', exactitud_prueba)"
      ],
      "execution_count": 15,
      "outputs": [
        {
          "output_type": "stream",
          "text": [
            "Evaluación promedio: 0.38540801678524245\n",
            "Prueba: 0.38269794721407624\n"
          ],
          "name": "stdout"
        }
      ]
    },
    {
      "cell_type": "markdown",
      "metadata": {
        "id": "Igv2F_jV_p7e",
        "colab_type": "text"
      },
      "source": [
        "#### Generación de datos de entrenamiento y prueba"
      ]
    },
    {
      "cell_type": "markdown",
      "metadata": {
        "id": "1TJVxx5G_p7k",
        "colab_type": "text"
      },
      "source": [
        "### Creación del modelo"
      ]
    },
    {
      "cell_type": "markdown",
      "metadata": {
        "id": "3l9b_ZFt_p7s",
        "colab_type": "text"
      },
      "source": [
        "#### Evaluación del modelo"
      ]
    },
    {
      "cell_type": "code",
      "metadata": {
        "id": "JOf1s5ih_p70",
        "colab_type": "code",
        "colab": {
          "base_uri": "https://localhost:8080/",
          "height": 641
        },
        "outputId": "bfbbd322-6aa1-421e-a643-0a0d5063e362"
      },
      "source": [
        "# Estimar la clase\n",
        "y_pred = mejor_modelo.predict(X_prueba)\n",
        "print(y_pred)\n",
        "import pylab as plt\n",
        "plt.hist(y_pred)\n"
      ],
      "execution_count": 16,
      "outputs": [
        {
          "output_type": "stream",
          "text": [
            "[2 2 2 2 2 2 2 2 2 2 2 2 2 2 2 2 2 2 2 2 2 2 2 2 2 2 2 2 2 2 2 2 2 2 2 2 2\n",
            " 2 2 2 2 2 2 2 2 2 2 2 2 2 2 2 2 2 2 2 2 2 2 2 2 2 2 2 2 2 2 2 2 2 2 2 2 2\n",
            " 2 2 2 2 2 2 2 2 2 2 2 2 2 2 2 2 2 2 2 2 4 2 2 2 2 2 2 2 2 2 2 2 2 2 2 2 2\n",
            " 2 2 2 2 2 2 2 2 2 2 2 2 2 2 2 2 2 2 2 2 2 2 2 2 2 2 2 2 2 2 2 2 2 2 2 2 2\n",
            " 2 2 2 2 2 2 2 2 2 2 2 2 2 2 2 2 2 2 2 2 2 2 2 2 2 2 2 2 2 2 2 2 2 2 2 2 2\n",
            " 2 2 2 2 2 2 2 2 2 2 2 2 2 2 2 2 2 2 2 2 2 2 2 2 2 2 2 2 2 2 2 2 2 2 2 2 2\n",
            " 2 2 2 2 2 2 2 2 2 2 2 2 2 2 2 2 2 2 2 2 2 2 2 2 2 2 2 2 2 2 2 2 2 2 2 2 2\n",
            " 2 2 2 2 2 2 2 2 2 2 2 2 2 2 2 2 2 2 2 2 2 2 2 2 2 2 2 2 2 2 2 2 2 2 2 2 2\n",
            " 2 2 2 2 2 2 2 2 2 2 2 2 2 2 2 2 2 2 2 2 2 2 2 2 2 2 2 2 2 2 2 2 2 2 2 2 2\n",
            " 2 2 2 2 2 2 2 2 4 2 2 2 2 2 2 2 2 2 2 2 2 2 2 2 2 2 2 2 2 2 2 2 2 2 2 2 2\n",
            " 2 2 4 2 2 2 2 2 2 2 2 2 2 2 2 2 2 2 2 2 2 2 2 2 2 2 2 2 2 2 2 2 2 2 2 2 2\n",
            " 2 2 2 2 2 2 2 2 2 2 2 2 2 2 2 2 2 2 2 2 2 2 2 2 2 2 2 2 2 2 2 2 2 2 2 2 2\n",
            " 2 2 2 2 2 2 2 2 2 2 2 2 2 2 2 2 2 2 2 2 2 2 2 2 2 2 2 2 2 4 2 2 2 2 2 2 2\n",
            " 2 2 2 2 2 4 4 4 4 2 2 2 2 2 2 2 2 2 2 2 2 2 2 2 2 2 2 2 2 2 2 2 2 2 2 2 2\n",
            " 2 2 2 2 2 2 2 2 2 2 2 2 2 2 2 2 2 2 2 2 2 2 2 2 2 2 2 2 2 2 2 2 2 2 2 2 2\n",
            " 2 2 2 2 2 2 2 2 2 2 2 2 2 2 2 2 2 2 2 2 2 2 2 2 2 2 2 2 2 2 2 2 2 2 2 2 2\n",
            " 2 2 2 2 2 2 2 2 2 2 2 2 2 2 2 2 2 2 2 2 2 2 2 2 2 2 2 2 2 2 2 2 2 2 2 2 2\n",
            " 2 2 2 2 2 2 2 2 2 2 2 2 2 2 2 2 2 2 2 2 2 2 2 2 2 2 2 2 2 2 2 2 2 2 2 2 2\n",
            " 2 2 2 2 2 2 2 2 2 2 2 2 2 2 2 2]\n"
          ],
          "name": "stdout"
        },
        {
          "output_type": "execute_result",
          "data": {
            "text/plain": [
              "(array([674.,   0.,   0.,   0.,   0.,   0.,   0.,   0.,   0.,   8.]),\n",
              " array([2. , 2.2, 2.4, 2.6, 2.8, 3. , 3.2, 3.4, 3.6, 3.8, 4. ]),\n",
              " <a list of 10 Patch objects>)"
            ]
          },
          "metadata": {
            "tags": []
          },
          "execution_count": 16
        },
        {
          "output_type": "display_data",
          "data": {
            "image/png": "[encoded data removed]",
            "text/plain": [
              "<Figure size 432x288 with 1 Axes>"
            ]
          },
          "metadata": {
            "tags": []
          }
        }
      ]
    },
    {
      "cell_type": "code",
      "metadata": {
        "id": "n0hNOMOY_p8N",
        "colab_type": "code",
        "colab": {
          "base_uri": "https://localhost:8080/",
          "height": 238
        },
        "outputId": "fc84966a-44ff-4ea0-d4dc-4c0761a0e4e6"
      },
      "source": [
        "# Estimar la probabilidad de clase\n",
        "p_pred = mejor_modelo.predict_proba(X_prueba)\n",
        "p_pred\n",
        "#print(p_pred[0,])"
      ],
      "execution_count": 17,
      "outputs": [
        {
          "output_type": "execute_result",
          "data": {
            "text/plain": [
              "array([[0.01227481, 0.39497448, 0.17270825, ..., 0.00667964, 0.03887577,\n",
              "        0.10732041],\n",
              "       [0.03989537, 0.34538425, 0.09359304, ..., 0.04397819, 0.04625569,\n",
              "        0.13586352],\n",
              "       [0.0511477 , 0.3710735 , 0.08364138, ..., 0.04722054, 0.03930736,\n",
              "        0.12165675],\n",
              "       ...,\n",
              "       [0.01309298, 0.35975959, 0.17371621, ..., 0.00903787, 0.05232826,\n",
              "        0.10712283],\n",
              "       [0.01309298, 0.35975959, 0.17371621, ..., 0.00903787, 0.05232826,\n",
              "        0.10712283],\n",
              "       [0.05550111, 0.3888487 , 0.08104402, ..., 0.04551739, 0.03586054,\n",
              "        0.11645923]])"
            ]
          },
          "metadata": {
            "tags": []
          },
          "execution_count": 17
        }
      ]
    },
    {
      "cell_type": "code",
      "metadata": {
        "id": "d3BnuzJ-_p8n",
        "colab_type": "code",
        "colab": {
          "base_uri": "https://localhost:8080/",
          "height": 34
        },
        "outputId": "0427c662-e3c7-463b-c6be-b1ea495173c0"
      },
      "source": [
        "print(mejor_modelo.classes_)"
      ],
      "execution_count": 18,
      "outputs": [
        {
          "output_type": "stream",
          "text": [
            "[ 1  2  3  4  5  6  9 10 11 12]\n"
          ],
          "name": "stdout"
        }
      ]
    },
    {
      "cell_type": "code",
      "metadata": {
        "id": "2_BNvrFm_p9X",
        "colab_type": "code",
        "colab": {
          "base_uri": "https://localhost:8080/",
          "height": 360
        },
        "outputId": "5f30027c-4e55-4276-a82f-c439c1ccca9f"
      },
      "source": [
        "from sklearn.metrics import classification_report\n",
        "print(classification_report(y_prueba,y_pred))"
      ],
      "execution_count": 19,
      "outputs": [
        {
          "output_type": "stream",
          "text": [
            "              precision    recall  f1-score   support\n",
            "\n",
            "           1       0.00      0.00      0.00        36\n",
            "           2       0.39      0.99      0.56       263\n",
            "           3       0.00      0.00      0.00        59\n",
            "           4       0.00      0.00      0.00        30\n",
            "           5       0.00      0.00      0.00        23\n",
            "           6       0.00      0.00      0.00        95\n",
            "           9       0.00      0.00      0.00        39\n",
            "          10       0.00      0.00      0.00        31\n",
            "          11       0.00      0.00      0.00        31\n",
            "          12       0.00      0.00      0.00        75\n",
            "\n",
            "    accuracy                           0.38       682\n",
            "   macro avg       0.04      0.10      0.06       682\n",
            "weighted avg       0.15      0.38      0.21       682\n",
            "\n"
          ],
          "name": "stdout"
        },
        {
          "output_type": "stream",
          "text": [
            "/usr/local/lib/python3.6/dist-packages/sklearn/metrics/_classification.py:1272: UndefinedMetricWarning: Precision and F-score are ill-defined and being set to 0.0 in labels with no predicted samples. Use `zero_division` parameter to control this behavior.\n",
            "  _warn_prf(average, modifier, msg_start, len(result))\n"
          ],
          "name": "stderr"
        }
      ]
    },
    {
      "cell_type": "code",
      "metadata": {
        "id": "2EnYYogC_p9u",
        "colab_type": "code",
        "colab": {
          "base_uri": "https://localhost:8080/",
          "height": 187
        },
        "outputId": "ec93c54b-e111-43aa-f958-cd00d8524796"
      },
      "source": [
        "from sklearn.metrics import confusion_matrix\n",
        "cm = confusion_matrix(y_prueba,y_pred)\n",
        "\n",
        "print(cm)"
      ],
      "execution_count": 20,
      "outputs": [
        {
          "output_type": "stream",
          "text": [
            "[[  0  36   0   0   0   0   0   0   0   0]\n",
            " [  0 261   0   2   0   0   0   0   0   0]\n",
            " [  0  59   0   0   0   0   0   0   0   0]\n",
            " [  0  30   0   0   0   0   0   0   0   0]\n",
            " [  0  23   0   0   0   0   0   0   0   0]\n",
            " [  0  95   0   0   0   0   0   0   0   0]\n",
            " [  0  38   0   1   0   0   0   0   0   0]\n",
            " [  0  31   0   0   0   0   0   0   0   0]\n",
            " [  0  27   0   4   0   0   0   0   0   0]\n",
            " [  0  74   0   1   0   0   0   0   0   0]]\n"
          ],
          "name": "stdout"
        }
      ]
    },
    {
      "cell_type": "code",
      "metadata": {
        "id": "CE_GzIfK_p-K",
        "colab_type": "code",
        "colab": {
          "base_uri": "https://localhost:8080/",
          "height": 297
        },
        "outputId": "39202d70-444c-4543-a649-b803aabeca81"
      },
      "source": [
        "import seaborn as sns\n",
        "import matplotlib.pyplot as plt\n",
        "\n",
        "score = mejor_modelo.score(X_prueba,y_prueba)\n",
        "\n",
        "sns.heatmap(cm, annot=True, fmt=\".1f\", linewidths=2, square = True, cmap = 'Blues_r');\n",
        "plt.ylabel('Actual label');\n",
        "plt.xlabel('Predicted label');\n",
        "all_sample_title = 'Accuracy Score: {0}'.format(score)\n",
        "plt.title(all_sample_title, size = 15);"
      ],
      "execution_count": 21,
      "outputs": [
        {
          "output_type": "display_data",
          "data": {
            "image/png": "[encoded data removed]",
            "text/plain": [
              "<Figure size 432x288 with 2 Axes>"
            ]
          },
          "metadata": {
            "tags": []
          }
        }
      ]
    },
    {
      "cell_type": "code",
      "metadata": {
        "id": "fc-dV7nF_p-l",
        "colab_type": "code",
        "colab": {}
      },
      "source": [
        ""
      ],
      "execution_count": 0,
      "outputs": []
    }
  ]
}