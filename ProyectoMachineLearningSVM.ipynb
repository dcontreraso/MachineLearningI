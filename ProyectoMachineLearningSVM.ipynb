{
  "nbformat": 4,
  "nbformat_minor": 0,
  "metadata": {
    "kernelspec": {
      "display_name": "Python 3",
      "language": "python",
      "name": "python3"
    },
    "language_info": {
      "codemirror_mode": {
        "name": "ipython",
        "version": 3
      },
      "file_extension": ".py",
      "mimetype": "text/x-python",
      "name": "python",
      "nbconvert_exporter": "python",
      "pygments_lexer": "ipython3",
      "version": "3.7.4"
    },
    "colab": {
      "name": "ProyectoMachineLearningSVM.ipynb",
      "provenance": []
    }
  },
  "cells": [
    {
      "cell_type": "markdown",
      "metadata": {
        "id": "2Rgi6nu1nU0v",
        "colab_type": "text"
      },
      "source": [
        "# EVALUACIÓN DE CLIENTES AUTOMOTICES\n",
        "\n",
        "Carga de datos hisotoricos de clientes automotrices"
      ]
    },
    {
      "cell_type": "code",
      "metadata": {
        "id": "VeA2hXp-nU1S",
        "colab_type": "code",
        "colab": {}
      },
      "source": [
        "import pandas as pd\n",
        "\n",
        "df = pd.read_csv('Datos.csv')\n",
        "\n"
      ],
      "execution_count": 0,
      "outputs": []
    },
    {
      "cell_type": "markdown",
      "metadata": {
        "id": "7-28bRttnU2W",
        "colab_type": "text"
      },
      "source": [
        "id_rs:           ID de razón social del cliente.<br>\n",
        "Clase_Act:       ID tipo de actividad coercial del cliente.<br>\n",
        "Desc_Act:        Descripción de la actividad del cliente.<br>\n",
        "id_persocup:     ID que identifica el tamaño del comercio por número de empleados.<br>\n",
        "Pers_ocup:       Descripción del  tamaño del comercio por número de empleados.<br>\n",
        "id_modeloCierre: ID que identifica el modelo del vehiculo comprado.<br>\n",
        "TipoCenCom:      Descripción del tipo de centro comercial.<br>\n",
        "Centro_Com:      Descripción que indica si el comercio se encuentra en un centro comercial.<br>\n",
        "CVE_Ent:         Clave de Etidad Politica<br>\n",
        "Nom_Ent:         Nombre de la entidad politica.<br>\n",
        "Tipo_Estab:      Tipo de establecimiento Fijo o Semifijo (INEGI)<br>\n",
        "Code:            Codigo de Clase de actividad la nomenclatura utilizado por DENUE INEGI.<br>\n",
        "SECTOR:          Categoria de tipo de negocio la nomenclatura utilizado por DENUE INEGI<br>\n",
        "SUBSECTOR:       Subcategoria de tipo de negocio la nomenclatura utilizado por DENUE INEGI<br>\n",
        "NATIONAL INDUSTRY: Tipo de industria segun la nomenclatura utilizado por DENUE INEGI<br>\n",
        "INDUSTRY GROUP:   Agrupamiento por tipo de industria segun la nomenclatura utilizado por DENUE INEGI<br>\n",
        "INDUSTRY:         Tipo de industria la nomenclatura utilizado por DENUE INEGI <br>\n",
        "ANIO:             Año de compra.<br>\n",
        "MES:              Mes de compra.<br>\n",
        "volumen:          Número de unidades compradas.<br>\n",
        "Sistema de Clasificación Industrial de América del Norte, México SCIAN 2018\n",
        "https://www.inegi.org.mx/app/biblioteca/ficha.html?upc=702825099695"
      ]
    },
    {
      "cell_type": "code",
      "metadata": {
        "id": "bPfR4FafnU2r",
        "colab_type": "code",
        "colab": {
          "base_uri": "https://localhost:8080/",
          "height": 615
        },
        "outputId": "47cd6600-9c23-43fb-e841-92b70307212d"
      },
      "source": [
        "df.head()"
      ],
      "execution_count": 3,
      "outputs": [
        {
          "output_type": "execute_result",
          "data": {
            "text/html": [
              "<div>\n",
              "<style scoped>\n",
              "    .dataframe tbody tr th:only-of-type {\n",
              "        vertical-align: middle;\n",
              "    }\n",
              "\n",
              "    .dataframe tbody tr th {\n",
              "        vertical-align: top;\n",
              "    }\n",
              "\n",
              "    .dataframe thead th {\n",
              "        text-align: right;\n",
              "    }\n",
              "</style>\n",
              "<table border=\"1\" class=\"dataframe\">\n",
              "  <thead>\n",
              "    <tr style=\"text-align: right;\">\n",
              "      <th></th>\n",
              "      <th>id_rs</th>\n",
              "      <th>Clase_Act</th>\n",
              "      <th>Desc_Act</th>\n",
              "      <th>id_persocup</th>\n",
              "      <th>id_modeloCierre</th>\n",
              "      <th>Pers_ocup</th>\n",
              "      <th>TipoCenCom</th>\n",
              "      <th>Centro_Com</th>\n",
              "      <th>CVE_Ent</th>\n",
              "      <th>Nom_Ent</th>\n",
              "      <th>Cve_Mun</th>\n",
              "      <th>Nom_Mun</th>\n",
              "      <th>Cve_Loc</th>\n",
              "      <th>Nom_Loc</th>\n",
              "      <th>Tipo_estab</th>\n",
              "      <th>CODE</th>\n",
              "      <th>NATIONAL INDUSTRY</th>\n",
              "      <th>INDUSTRY</th>\n",
              "      <th>INDUSTRY GROUP</th>\n",
              "      <th>SUBSECTOR</th>\n",
              "      <th>SECTOR</th>\n",
              "      <th>ANIO</th>\n",
              "      <th>MES</th>\n",
              "      <th>volumen</th>\n",
              "      <th>modelo_cierre</th>\n",
              "    </tr>\n",
              "  </thead>\n",
              "  <tbody>\n",
              "    <tr>\n",
              "      <th>0</th>\n",
              "      <td>2721</td>\n",
              "      <td>237312</td>\n",
              "      <td>Construcción de carreteras, puentes y similares</td>\n",
              "      <td>1</td>\n",
              "      <td>2</td>\n",
              "      <td>0 a 5 personas</td>\n",
              "      <td>NaN</td>\n",
              "      <td>NaN</td>\n",
              "      <td>2</td>\n",
              "      <td>BAJA CALIFORNIA</td>\n",
              "      <td>2</td>\n",
              "      <td>Mexicali</td>\n",
              "      <td>1</td>\n",
              "      <td>Mexicali</td>\n",
              "      <td>Fijo</td>\n",
              "      <td>237312</td>\n",
              "      <td>Construction of highways, bridges and similar ...</td>\n",
              "      <td>Construction of roads, highways and similar works</td>\n",
              "      <td>Construction of roads, highways and similar works</td>\n",
              "      <td>Civil engineering construction works</td>\n",
              "      <td>Construction</td>\n",
              "      <td>2017</td>\n",
              "      <td>1</td>\n",
              "      <td>1</td>\n",
              "      <td>PICKUP_DOBLE_CABINA</td>\n",
              "    </tr>\n",
              "    <tr>\n",
              "      <th>1</th>\n",
              "      <td>1910</td>\n",
              "      <td>611171</td>\n",
              "      <td>Escuelas del sector privado que combinan diver...</td>\n",
              "      <td>5</td>\n",
              "      <td>2</td>\n",
              "      <td>51 a 100 personas</td>\n",
              "      <td>NaN</td>\n",
              "      <td>NaN</td>\n",
              "      <td>2</td>\n",
              "      <td>BAJA CALIFORNIA</td>\n",
              "      <td>4</td>\n",
              "      <td>Tijuana</td>\n",
              "      <td>1</td>\n",
              "      <td>Tijuana</td>\n",
              "      <td>Fijo</td>\n",
              "      <td>611171</td>\n",
              "      <td>Schools that combine multiple education levels...</td>\n",
              "      <td>Schools that combine multiple education levels</td>\n",
              "      <td>Basic, middle and special needs education schools</td>\n",
              "      <td>Educational services7</td>\n",
              "      <td>Educational services</td>\n",
              "      <td>2017</td>\n",
              "      <td>9</td>\n",
              "      <td>1</td>\n",
              "      <td>PICKUP_DOBLE_CABINA</td>\n",
              "    </tr>\n",
              "    <tr>\n",
              "      <th>2</th>\n",
              "      <td>9367</td>\n",
              "      <td>561310</td>\n",
              "      <td>Agencias de colocación</td>\n",
              "      <td>1</td>\n",
              "      <td>12</td>\n",
              "      <td>0 a 5 personas</td>\n",
              "      <td>EDIFICIO COMERCIAL Y DE SERVICIOS</td>\n",
              "      <td>NaN</td>\n",
              "      <td>1</td>\n",
              "      <td>AGUASCALIENTES</td>\n",
              "      <td>1</td>\n",
              "      <td>Aguascalientes</td>\n",
              "      <td>1</td>\n",
              "      <td>Aguascalientes</td>\n",
              "      <td>Fijo</td>\n",
              "      <td>561310</td>\n",
              "      <td>Employment agencies</td>\n",
              "      <td>Employment agencies</td>\n",
              "      <td>Employment services</td>\n",
              "      <td>Business support services</td>\n",
              "      <td>Business support services, waste management an...</td>\n",
              "      <td>2016</td>\n",
              "      <td>4</td>\n",
              "      <td>1</td>\n",
              "      <td>SEDAN_UTILITARIO</td>\n",
              "    </tr>\n",
              "    <tr>\n",
              "      <th>3</th>\n",
              "      <td>7326</td>\n",
              "      <td>434225</td>\n",
              "      <td>Comercio al por mayor de equipo y material elé...</td>\n",
              "      <td>2</td>\n",
              "      <td>6</td>\n",
              "      <td>6 a 10 personas</td>\n",
              "      <td>NaN</td>\n",
              "      <td>NaN</td>\n",
              "      <td>25</td>\n",
              "      <td>SINALOA</td>\n",
              "      <td>12</td>\n",
              "      <td>Mazatlán</td>\n",
              "      <td>1</td>\n",
              "      <td>Mazatlán</td>\n",
              "      <td>Fijo</td>\n",
              "      <td>434225</td>\n",
              "      <td>Wholesale trade of electric equipment and mate...</td>\n",
              "      <td>Wholesale trade of other construction material...</td>\n",
              "      <td>Wholesale trade of industrial raw materials</td>\n",
              "      <td>Wholesale trade of agricultural, forestry and ...</td>\n",
              "      <td>Wholesale trade</td>\n",
              "      <td>2017</td>\n",
              "      <td>11</td>\n",
              "      <td>1</td>\n",
              "      <td>HATCHBACK</td>\n",
              "    </tr>\n",
              "    <tr>\n",
              "      <th>4</th>\n",
              "      <td>1070</td>\n",
              "      <td>811111</td>\n",
              "      <td>Reparación mecánica en general de automóviles ...</td>\n",
              "      <td>2</td>\n",
              "      <td>2</td>\n",
              "      <td>6 a 10 personas</td>\n",
              "      <td>NaN</td>\n",
              "      <td>NaN</td>\n",
              "      <td>30</td>\n",
              "      <td>VERACRUZ DE IGNACIO DE LA LLAVE</td>\n",
              "      <td>211</td>\n",
              "      <td>San Rafael</td>\n",
              "      <td>1</td>\n",
              "      <td>San Rafael</td>\n",
              "      <td>Fijo</td>\n",
              "      <td>811111</td>\n",
              "      <td>General mechanical repair for automobiles and ...</td>\n",
              "      <td>Mechanical and electrical repair of automobile...</td>\n",
              "      <td>Repair and maintenance of automobiles and trucks</td>\n",
              "      <td>Repair and maintenance services</td>\n",
              "      <td>Other services, except government activities</td>\n",
              "      <td>2018</td>\n",
              "      <td>2</td>\n",
              "      <td>1</td>\n",
              "      <td>PICKUP_DOBLE_CABINA</td>\n",
              "    </tr>\n",
              "  </tbody>\n",
              "</table>\n",
              "</div>"
            ],
            "text/plain": [
              "   id_rs  Clase_Act  ... volumen        modelo_cierre\n",
              "0   2721     237312  ...       1  PICKUP_DOBLE_CABINA\n",
              "1   1910     611171  ...       1  PICKUP_DOBLE_CABINA\n",
              "2   9367     561310  ...       1     SEDAN_UTILITARIO\n",
              "3   7326     434225  ...       1            HATCHBACK\n",
              "4   1070     811111  ...       1  PICKUP_DOBLE_CABINA\n",
              "\n",
              "[5 rows x 25 columns]"
            ]
          },
          "metadata": {
            "tags": []
          },
          "execution_count": 3
        }
      ]
    },
    {
      "cell_type": "code",
      "metadata": {
        "id": "qixgqARfnU4S",
        "colab_type": "code",
        "colab": {
          "base_uri": "https://localhost:8080/",
          "height": 34
        },
        "outputId": "c0d12c58-9273-4a4e-8ba8-0bdd70660d35"
      },
      "source": [
        "\n",
        "df.shape"
      ],
      "execution_count": 4,
      "outputs": [
        {
          "output_type": "execute_result",
          "data": {
            "text/plain": [
              "(16099, 25)"
            ]
          },
          "metadata": {
            "tags": []
          },
          "execution_count": 4
        }
      ]
    },
    {
      "cell_type": "code",
      "metadata": {
        "id": "r8LpDbLMnU5a",
        "colab_type": "code",
        "colab": {}
      },
      "source": [
        "\n",
        "df2 = df.copy()"
      ],
      "execution_count": 0,
      "outputs": []
    },
    {
      "cell_type": "code",
      "metadata": {
        "id": "7rRv0CJnnU6j",
        "colab_type": "code",
        "colab": {
          "base_uri": "https://localhost:8080/",
          "height": 34
        },
        "outputId": "b9619db2-3211-450c-88b9-f83b9df82e74"
      },
      "source": [
        "df2.shape"
      ],
      "execution_count": 6,
      "outputs": [
        {
          "output_type": "execute_result",
          "data": {
            "text/plain": [
              "(16099, 25)"
            ]
          },
          "metadata": {
            "tags": []
          },
          "execution_count": 6
        }
      ]
    },
    {
      "cell_type": "code",
      "metadata": {
        "id": "SqYgw1l2nU79",
        "colab_type": "code",
        "colab": {}
      },
      "source": [
        "df2['modelo_cierre'] = df2['id_modeloCierre']"
      ],
      "execution_count": 0,
      "outputs": []
    },
    {
      "cell_type": "code",
      "metadata": {
        "id": "7UtRXLdinU-Y",
        "colab_type": "code",
        "colab": {}
      },
      "source": [
        "df2['modelo_cierre'].replace({1:\"PICKUP_CABINA_SENCILLA\",2:\"PICKUP_DOBLE_CABINA\",3:\"IMPORTADO_LUXURY\",4:\"IMPORTADO_UTILITARIO\",5:\"SUV_CHICO\",6:\"HATCHBACK\",7:\"HATCHBACK_SPORT\",8:\"DISEL\",9:\"SEDAN_MEDIANO\",10:\"SEDAN_CHICO\",11:\"SEDAN BASICO\",12:\"SEDAN_UTILITARIO\"},inplace=True) "
      ],
      "execution_count": 0,
      "outputs": []
    },
    {
      "cell_type": "markdown",
      "metadata": {
        "id": "uBrc_0tNnU_f",
        "colab_type": "text"
      },
      "source": [
        "#### Limpieza del conjunto de datos\n",
        "* Los valores NaN de la edad se reemplazan por la media de la edad\n",
        "* Se elimina la columna de la cabina\n",
        "* Se eliminan los registros con valores faltantes"
      ]
    },
    {
      "cell_type": "code",
      "metadata": {
        "id": "6NrvCKdsnU_w",
        "colab_type": "code",
        "colab": {
          "base_uri": "https://localhost:8080/",
          "height": 615
        },
        "outputId": "02ab17d3-a830-420f-e357-5e0c6385f154"
      },
      "source": [
        "df2.Tipo_estab.unique()\n",
        "#datosLimpios = df2#.copy\n",
        "df2.head()"
      ],
      "execution_count": 9,
      "outputs": [
        {
          "output_type": "execute_result",
          "data": {
            "text/html": [
              "<div>\n",
              "<style scoped>\n",
              "    .dataframe tbody tr th:only-of-type {\n",
              "        vertical-align: middle;\n",
              "    }\n",
              "\n",
              "    .dataframe tbody tr th {\n",
              "        vertical-align: top;\n",
              "    }\n",
              "\n",
              "    .dataframe thead th {\n",
              "        text-align: right;\n",
              "    }\n",
              "</style>\n",
              "<table border=\"1\" class=\"dataframe\">\n",
              "  <thead>\n",
              "    <tr style=\"text-align: right;\">\n",
              "      <th></th>\n",
              "      <th>id_rs</th>\n",
              "      <th>Clase_Act</th>\n",
              "      <th>Desc_Act</th>\n",
              "      <th>id_persocup</th>\n",
              "      <th>id_modeloCierre</th>\n",
              "      <th>Pers_ocup</th>\n",
              "      <th>TipoCenCom</th>\n",
              "      <th>Centro_Com</th>\n",
              "      <th>CVE_Ent</th>\n",
              "      <th>Nom_Ent</th>\n",
              "      <th>Cve_Mun</th>\n",
              "      <th>Nom_Mun</th>\n",
              "      <th>Cve_Loc</th>\n",
              "      <th>Nom_Loc</th>\n",
              "      <th>Tipo_estab</th>\n",
              "      <th>CODE</th>\n",
              "      <th>NATIONAL INDUSTRY</th>\n",
              "      <th>INDUSTRY</th>\n",
              "      <th>INDUSTRY GROUP</th>\n",
              "      <th>SUBSECTOR</th>\n",
              "      <th>SECTOR</th>\n",
              "      <th>ANIO</th>\n",
              "      <th>MES</th>\n",
              "      <th>volumen</th>\n",
              "      <th>modelo_cierre</th>\n",
              "    </tr>\n",
              "  </thead>\n",
              "  <tbody>\n",
              "    <tr>\n",
              "      <th>0</th>\n",
              "      <td>2721</td>\n",
              "      <td>237312</td>\n",
              "      <td>Construcción de carreteras, puentes y similares</td>\n",
              "      <td>1</td>\n",
              "      <td>2</td>\n",
              "      <td>0 a 5 personas</td>\n",
              "      <td>NaN</td>\n",
              "      <td>NaN</td>\n",
              "      <td>2</td>\n",
              "      <td>BAJA CALIFORNIA</td>\n",
              "      <td>2</td>\n",
              "      <td>Mexicali</td>\n",
              "      <td>1</td>\n",
              "      <td>Mexicali</td>\n",
              "      <td>Fijo</td>\n",
              "      <td>237312</td>\n",
              "      <td>Construction of highways, bridges and similar ...</td>\n",
              "      <td>Construction of roads, highways and similar works</td>\n",
              "      <td>Construction of roads, highways and similar works</td>\n",
              "      <td>Civil engineering construction works</td>\n",
              "      <td>Construction</td>\n",
              "      <td>2017</td>\n",
              "      <td>1</td>\n",
              "      <td>1</td>\n",
              "      <td>PICKUP_DOBLE_CABINA</td>\n",
              "    </tr>\n",
              "    <tr>\n",
              "      <th>1</th>\n",
              "      <td>1910</td>\n",
              "      <td>611171</td>\n",
              "      <td>Escuelas del sector privado que combinan diver...</td>\n",
              "      <td>5</td>\n",
              "      <td>2</td>\n",
              "      <td>51 a 100 personas</td>\n",
              "      <td>NaN</td>\n",
              "      <td>NaN</td>\n",
              "      <td>2</td>\n",
              "      <td>BAJA CALIFORNIA</td>\n",
              "      <td>4</td>\n",
              "      <td>Tijuana</td>\n",
              "      <td>1</td>\n",
              "      <td>Tijuana</td>\n",
              "      <td>Fijo</td>\n",
              "      <td>611171</td>\n",
              "      <td>Schools that combine multiple education levels...</td>\n",
              "      <td>Schools that combine multiple education levels</td>\n",
              "      <td>Basic, middle and special needs education schools</td>\n",
              "      <td>Educational services7</td>\n",
              "      <td>Educational services</td>\n",
              "      <td>2017</td>\n",
              "      <td>9</td>\n",
              "      <td>1</td>\n",
              "      <td>PICKUP_DOBLE_CABINA</td>\n",
              "    </tr>\n",
              "    <tr>\n",
              "      <th>2</th>\n",
              "      <td>9367</td>\n",
              "      <td>561310</td>\n",
              "      <td>Agencias de colocación</td>\n",
              "      <td>1</td>\n",
              "      <td>12</td>\n",
              "      <td>0 a 5 personas</td>\n",
              "      <td>EDIFICIO COMERCIAL Y DE SERVICIOS</td>\n",
              "      <td>NaN</td>\n",
              "      <td>1</td>\n",
              "      <td>AGUASCALIENTES</td>\n",
              "      <td>1</td>\n",
              "      <td>Aguascalientes</td>\n",
              "      <td>1</td>\n",
              "      <td>Aguascalientes</td>\n",
              "      <td>Fijo</td>\n",
              "      <td>561310</td>\n",
              "      <td>Employment agencies</td>\n",
              "      <td>Employment agencies</td>\n",
              "      <td>Employment services</td>\n",
              "      <td>Business support services</td>\n",
              "      <td>Business support services, waste management an...</td>\n",
              "      <td>2016</td>\n",
              "      <td>4</td>\n",
              "      <td>1</td>\n",
              "      <td>SEDAN_UTILITARIO</td>\n",
              "    </tr>\n",
              "    <tr>\n",
              "      <th>3</th>\n",
              "      <td>7326</td>\n",
              "      <td>434225</td>\n",
              "      <td>Comercio al por mayor de equipo y material elé...</td>\n",
              "      <td>2</td>\n",
              "      <td>6</td>\n",
              "      <td>6 a 10 personas</td>\n",
              "      <td>NaN</td>\n",
              "      <td>NaN</td>\n",
              "      <td>25</td>\n",
              "      <td>SINALOA</td>\n",
              "      <td>12</td>\n",
              "      <td>Mazatlán</td>\n",
              "      <td>1</td>\n",
              "      <td>Mazatlán</td>\n",
              "      <td>Fijo</td>\n",
              "      <td>434225</td>\n",
              "      <td>Wholesale trade of electric equipment and mate...</td>\n",
              "      <td>Wholesale trade of other construction material...</td>\n",
              "      <td>Wholesale trade of industrial raw materials</td>\n",
              "      <td>Wholesale trade of agricultural, forestry and ...</td>\n",
              "      <td>Wholesale trade</td>\n",
              "      <td>2017</td>\n",
              "      <td>11</td>\n",
              "      <td>1</td>\n",
              "      <td>HATCHBACK</td>\n",
              "    </tr>\n",
              "    <tr>\n",
              "      <th>4</th>\n",
              "      <td>1070</td>\n",
              "      <td>811111</td>\n",
              "      <td>Reparación mecánica en general de automóviles ...</td>\n",
              "      <td>2</td>\n",
              "      <td>2</td>\n",
              "      <td>6 a 10 personas</td>\n",
              "      <td>NaN</td>\n",
              "      <td>NaN</td>\n",
              "      <td>30</td>\n",
              "      <td>VERACRUZ DE IGNACIO DE LA LLAVE</td>\n",
              "      <td>211</td>\n",
              "      <td>San Rafael</td>\n",
              "      <td>1</td>\n",
              "      <td>San Rafael</td>\n",
              "      <td>Fijo</td>\n",
              "      <td>811111</td>\n",
              "      <td>General mechanical repair for automobiles and ...</td>\n",
              "      <td>Mechanical and electrical repair of automobile...</td>\n",
              "      <td>Repair and maintenance of automobiles and trucks</td>\n",
              "      <td>Repair and maintenance services</td>\n",
              "      <td>Other services, except government activities</td>\n",
              "      <td>2018</td>\n",
              "      <td>2</td>\n",
              "      <td>1</td>\n",
              "      <td>PICKUP_DOBLE_CABINA</td>\n",
              "    </tr>\n",
              "  </tbody>\n",
              "</table>\n",
              "</div>"
            ],
            "text/plain": [
              "   id_rs  Clase_Act  ... volumen        modelo_cierre\n",
              "0   2721     237312  ...       1  PICKUP_DOBLE_CABINA\n",
              "1   1910     611171  ...       1  PICKUP_DOBLE_CABINA\n",
              "2   9367     561310  ...       1     SEDAN_UTILITARIO\n",
              "3   7326     434225  ...       1            HATCHBACK\n",
              "4   1070     811111  ...       1  PICKUP_DOBLE_CABINA\n",
              "\n",
              "[5 rows x 25 columns]"
            ]
          },
          "metadata": {
            "tags": []
          },
          "execution_count": 9
        }
      ]
    },
    {
      "cell_type": "code",
      "metadata": {
        "id": "wTYVtQPGnVBh",
        "colab_type": "code",
        "colab": {}
      },
      "source": [
        "datosLimpios = df2.copy()\n",
        "datosLimpios.drop(\"TipoCenCom\",inplace=True,axis=1)\n",
        "datosLimpios.drop(\"Centro_Com\",inplace=True,axis=1)\n",
        "datosLimpios.drop(\"Desc_Act\",inplace=True,axis=1)\n",
        "datosLimpios.drop(\"Pers_ocup\",inplace=True,axis=1)\n",
        "datosLimpios.drop(\"Nom_Ent\",inplace=True,axis=1)\n",
        "datosLimpios.drop(\"NATIONAL INDUSTRY\",inplace=True,axis=1)\n",
        "datosLimpios.drop(\"INDUSTRY\",inplace=True,axis=1)\n",
        "datosLimpios.drop(\"INDUSTRY GROUP\",inplace=True,axis=1)\n",
        "datosLimpios.drop(\"SUBSECTOR\",inplace=True,axis=1)\n",
        "datosLimpios.drop(\"SECTOR\",inplace=True,axis=1)\n",
        "datosLimpios.drop(\"Cve_Mun\",inplace=True,axis=1)\n",
        "datosLimpios.drop(\"Nom_Mun\",inplace=True,axis=1)\n",
        "datosLimpios.drop(\"Cve_Loc\",inplace=True,axis=1)\n",
        "datosLimpios.drop(\"Nom_Loc\",inplace=True,axis=1)\n",
        "datosLimpios.drop(\"Tipo_estab\",inplace=True,axis=1)\n",
        "#datosLimpios.drop(\"id_rs\",inplace=True,axis=1)\n",
        "datosLimpios.drop(\"modelo_cierre\",inplace=True,axis=1)\n",
        "\n",
        "\n",
        "#Se retira el mes para solo considerar los vehiculos colocados por año\n",
        "#datosLimpios.drop(\"MES\",inplace=True,axis=1)\n",
        "\n",
        "#Solo se deja el tipo de industria\n",
        "datosLimpios['tipoIndustria'] = datosLimpios['Clase_Act'].astype(str).str[:2]\n",
        "datosLimpios.drop(\"Clase_Act\",inplace=True,axis=1)\n",
        "\n"
      ],
      "execution_count": 0,
      "outputs": []
    },
    {
      "cell_type": "markdown",
      "metadata": {
        "id": "GSSVr8YlnVCT",
        "colab_type": "text"
      },
      "source": [
        "Se cambian los valores categóricos a valores numéricos (binarización)"
      ]
    },
    {
      "cell_type": "code",
      "metadata": {
        "id": "vOj7qmmrnVCk",
        "colab_type": "code",
        "colab": {
          "base_uri": "https://localhost:8080/",
          "height": 204
        },
        "outputId": "7a2ff7b7-3ea6-41c9-85ec-991bd608a695"
      },
      "source": [
        "#datosLimpios['Tipo_estab'] =  datosLimpios['Tipo_estab']\n",
        "Tipo_estab = pd.get_dummies(df2[\"Tipo_estab\"],drop_first=True)\n",
        "\n",
        "\n",
        "datosLimpios = pd.concat([datosLimpios,Tipo_estab],axis=1)\n",
        "datosLimpios.head(5)\n",
        "#datosLimpios.groupby('id_modeloCierre','Clase_Act','id_persocup','id_modeloCierre','CVE_Ent','CODE','MES','Semifijo').sum().head(5)"
      ],
      "execution_count": 11,
      "outputs": [
        {
          "output_type": "execute_result",
          "data": {
            "text/html": [
              "<div>\n",
              "<style scoped>\n",
              "    .dataframe tbody tr th:only-of-type {\n",
              "        vertical-align: middle;\n",
              "    }\n",
              "\n",
              "    .dataframe tbody tr th {\n",
              "        vertical-align: top;\n",
              "    }\n",
              "\n",
              "    .dataframe thead th {\n",
              "        text-align: right;\n",
              "    }\n",
              "</style>\n",
              "<table border=\"1\" class=\"dataframe\">\n",
              "  <thead>\n",
              "    <tr style=\"text-align: right;\">\n",
              "      <th></th>\n",
              "      <th>id_rs</th>\n",
              "      <th>id_persocup</th>\n",
              "      <th>id_modeloCierre</th>\n",
              "      <th>CVE_Ent</th>\n",
              "      <th>CODE</th>\n",
              "      <th>ANIO</th>\n",
              "      <th>MES</th>\n",
              "      <th>volumen</th>\n",
              "      <th>tipoIndustria</th>\n",
              "      <th>Semifijo</th>\n",
              "    </tr>\n",
              "  </thead>\n",
              "  <tbody>\n",
              "    <tr>\n",
              "      <th>0</th>\n",
              "      <td>2721</td>\n",
              "      <td>1</td>\n",
              "      <td>2</td>\n",
              "      <td>2</td>\n",
              "      <td>237312</td>\n",
              "      <td>2017</td>\n",
              "      <td>1</td>\n",
              "      <td>1</td>\n",
              "      <td>23</td>\n",
              "      <td>0</td>\n",
              "    </tr>\n",
              "    <tr>\n",
              "      <th>1</th>\n",
              "      <td>1910</td>\n",
              "      <td>5</td>\n",
              "      <td>2</td>\n",
              "      <td>2</td>\n",
              "      <td>611171</td>\n",
              "      <td>2017</td>\n",
              "      <td>9</td>\n",
              "      <td>1</td>\n",
              "      <td>61</td>\n",
              "      <td>0</td>\n",
              "    </tr>\n",
              "    <tr>\n",
              "      <th>2</th>\n",
              "      <td>9367</td>\n",
              "      <td>1</td>\n",
              "      <td>12</td>\n",
              "      <td>1</td>\n",
              "      <td>561310</td>\n",
              "      <td>2016</td>\n",
              "      <td>4</td>\n",
              "      <td>1</td>\n",
              "      <td>56</td>\n",
              "      <td>0</td>\n",
              "    </tr>\n",
              "    <tr>\n",
              "      <th>3</th>\n",
              "      <td>7326</td>\n",
              "      <td>2</td>\n",
              "      <td>6</td>\n",
              "      <td>25</td>\n",
              "      <td>434225</td>\n",
              "      <td>2017</td>\n",
              "      <td>11</td>\n",
              "      <td>1</td>\n",
              "      <td>43</td>\n",
              "      <td>0</td>\n",
              "    </tr>\n",
              "    <tr>\n",
              "      <th>4</th>\n",
              "      <td>1070</td>\n",
              "      <td>2</td>\n",
              "      <td>2</td>\n",
              "      <td>30</td>\n",
              "      <td>811111</td>\n",
              "      <td>2018</td>\n",
              "      <td>2</td>\n",
              "      <td>1</td>\n",
              "      <td>81</td>\n",
              "      <td>0</td>\n",
              "    </tr>\n",
              "  </tbody>\n",
              "</table>\n",
              "</div>"
            ],
            "text/plain": [
              "   id_rs  id_persocup  id_modeloCierre  ...  volumen  tipoIndustria  Semifijo\n",
              "0   2721            1                2  ...        1             23         0\n",
              "1   1910            5                2  ...        1             61         0\n",
              "2   9367            1               12  ...        1             56         0\n",
              "3   7326            2                6  ...        1             43         0\n",
              "4   1070            2                2  ...        1             81         0\n",
              "\n",
              "[5 rows x 10 columns]"
            ]
          },
          "metadata": {
            "tags": []
          },
          "execution_count": 11
        }
      ]
    },
    {
      "cell_type": "code",
      "metadata": {
        "id": "O3tEJSUAnVDK",
        "colab_type": "code",
        "colab": {}
      },
      "source": [
        "#Agrupando volumen\n",
        "#datosLimpios.keys()\n",
        "#b = datosLimpios.groupby([\"id_rs\",\"tipoIndustria\",\"id_modeloCierre\",\"id_persocup\",\"CVE_Ent\",\"ANIO\",\"MES\",\"Semifijo\"])[\"volumen\"].sum().to_frame(name = \"volumen\").reset_index()\n",
        "b = datosLimpios[[\"id_rs\",\"tipoIndustria\",\"id_modeloCierre\",\"id_persocup\",\"CVE_Ent\",\"ANIO\",\"MES\",\"Semifijo\",\"volumen\"]].copy()\n",
        "b['volumen'].mask(b['volumen'] >0 , 1, inplace=True)\n",
        "#a = datosLimpios.groupby([\"Clase_Act\",\"id_modeloCierre\",\"id_persocup\",\"CVE_Ent\",\"CODE\",\"ANIO\",\"Semifijo\"])[\"volumen\"].sum().reset_index().values.tolist()\n",
        "b[\"nuevoID\"] = b[\"tipoIndustria\"].astype(str)+\"_\"+ b[\"id_modeloCierre\"].astype(str)+\"_\"+b[\"volumen\"].astype(str)\n"
      ],
      "execution_count": 0,
      "outputs": []
    },
    {
      "cell_type": "code",
      "metadata": {
        "id": "kZyeSh8ynVD2",
        "colab_type": "code",
        "colab": {
          "base_uri": "https://localhost:8080/",
          "height": 204
        },
        "outputId": "7e42a6a6-333d-41df-bf97-37fe88202bed"
      },
      "source": [
        "#ELIMINAMOS ANIO PARA NO CONSIDERARLO COMO CRITERIO\n",
        "b.drop(\"ANIO\",inplace=True,axis=1)\n",
        "b.drop(\"id_rs\",inplace=True,axis=1)\n",
        "b.drop(\"MES\",inplace=True,axis=1)\n",
        "b.head(5)"
      ],
      "execution_count": 13,
      "outputs": [
        {
          "output_type": "execute_result",
          "data": {
            "text/html": [
              "<div>\n",
              "<style scoped>\n",
              "    .dataframe tbody tr th:only-of-type {\n",
              "        vertical-align: middle;\n",
              "    }\n",
              "\n",
              "    .dataframe tbody tr th {\n",
              "        vertical-align: top;\n",
              "    }\n",
              "\n",
              "    .dataframe thead th {\n",
              "        text-align: right;\n",
              "    }\n",
              "</style>\n",
              "<table border=\"1\" class=\"dataframe\">\n",
              "  <thead>\n",
              "    <tr style=\"text-align: right;\">\n",
              "      <th></th>\n",
              "      <th>tipoIndustria</th>\n",
              "      <th>id_modeloCierre</th>\n",
              "      <th>id_persocup</th>\n",
              "      <th>CVE_Ent</th>\n",
              "      <th>Semifijo</th>\n",
              "      <th>volumen</th>\n",
              "      <th>nuevoID</th>\n",
              "    </tr>\n",
              "  </thead>\n",
              "  <tbody>\n",
              "    <tr>\n",
              "      <th>0</th>\n",
              "      <td>23</td>\n",
              "      <td>2</td>\n",
              "      <td>1</td>\n",
              "      <td>2</td>\n",
              "      <td>0</td>\n",
              "      <td>1</td>\n",
              "      <td>23_2_1</td>\n",
              "    </tr>\n",
              "    <tr>\n",
              "      <th>1</th>\n",
              "      <td>61</td>\n",
              "      <td>2</td>\n",
              "      <td>5</td>\n",
              "      <td>2</td>\n",
              "      <td>0</td>\n",
              "      <td>1</td>\n",
              "      <td>61_2_1</td>\n",
              "    </tr>\n",
              "    <tr>\n",
              "      <th>2</th>\n",
              "      <td>56</td>\n",
              "      <td>12</td>\n",
              "      <td>1</td>\n",
              "      <td>1</td>\n",
              "      <td>0</td>\n",
              "      <td>1</td>\n",
              "      <td>56_12_1</td>\n",
              "    </tr>\n",
              "    <tr>\n",
              "      <th>3</th>\n",
              "      <td>43</td>\n",
              "      <td>6</td>\n",
              "      <td>2</td>\n",
              "      <td>25</td>\n",
              "      <td>0</td>\n",
              "      <td>1</td>\n",
              "      <td>43_6_1</td>\n",
              "    </tr>\n",
              "    <tr>\n",
              "      <th>4</th>\n",
              "      <td>81</td>\n",
              "      <td>2</td>\n",
              "      <td>2</td>\n",
              "      <td>30</td>\n",
              "      <td>0</td>\n",
              "      <td>1</td>\n",
              "      <td>81_2_1</td>\n",
              "    </tr>\n",
              "  </tbody>\n",
              "</table>\n",
              "</div>"
            ],
            "text/plain": [
              "  tipoIndustria  id_modeloCierre  id_persocup  ...  Semifijo  volumen  nuevoID\n",
              "0            23                2            1  ...         0        1   23_2_1\n",
              "1            61                2            5  ...         0        1   61_2_1\n",
              "2            56               12            1  ...         0        1  56_12_1\n",
              "3            43                6            2  ...         0        1   43_6_1\n",
              "4            81                2            2  ...         0        1   81_2_1\n",
              "\n",
              "[5 rows x 7 columns]"
            ]
          },
          "metadata": {
            "tags": []
          },
          "execution_count": 13
        }
      ]
    },
    {
      "cell_type": "code",
      "metadata": {
        "id": "URZJobx7nVEs",
        "colab_type": "code",
        "colab": {
          "base_uri": "https://localhost:8080/",
          "height": 204
        },
        "outputId": "1b662242-0f5d-49f3-80dd-f41f8b2bb41c"
      },
      "source": [
        "b[[\"tipoIndustria\",\"id_persocup\",\"CVE_Ent\",\"Semifijo\"]].head(5)"
      ],
      "execution_count": 14,
      "outputs": [
        {
          "output_type": "execute_result",
          "data": {
            "text/html": [
              "<div>\n",
              "<style scoped>\n",
              "    .dataframe tbody tr th:only-of-type {\n",
              "        vertical-align: middle;\n",
              "    }\n",
              "\n",
              "    .dataframe tbody tr th {\n",
              "        vertical-align: top;\n",
              "    }\n",
              "\n",
              "    .dataframe thead th {\n",
              "        text-align: right;\n",
              "    }\n",
              "</style>\n",
              "<table border=\"1\" class=\"dataframe\">\n",
              "  <thead>\n",
              "    <tr style=\"text-align: right;\">\n",
              "      <th></th>\n",
              "      <th>tipoIndustria</th>\n",
              "      <th>id_persocup</th>\n",
              "      <th>CVE_Ent</th>\n",
              "      <th>Semifijo</th>\n",
              "    </tr>\n",
              "  </thead>\n",
              "  <tbody>\n",
              "    <tr>\n",
              "      <th>0</th>\n",
              "      <td>23</td>\n",
              "      <td>1</td>\n",
              "      <td>2</td>\n",
              "      <td>0</td>\n",
              "    </tr>\n",
              "    <tr>\n",
              "      <th>1</th>\n",
              "      <td>61</td>\n",
              "      <td>5</td>\n",
              "      <td>2</td>\n",
              "      <td>0</td>\n",
              "    </tr>\n",
              "    <tr>\n",
              "      <th>2</th>\n",
              "      <td>56</td>\n",
              "      <td>1</td>\n",
              "      <td>1</td>\n",
              "      <td>0</td>\n",
              "    </tr>\n",
              "    <tr>\n",
              "      <th>3</th>\n",
              "      <td>43</td>\n",
              "      <td>2</td>\n",
              "      <td>25</td>\n",
              "      <td>0</td>\n",
              "    </tr>\n",
              "    <tr>\n",
              "      <th>4</th>\n",
              "      <td>81</td>\n",
              "      <td>2</td>\n",
              "      <td>30</td>\n",
              "      <td>0</td>\n",
              "    </tr>\n",
              "  </tbody>\n",
              "</table>\n",
              "</div>"
            ],
            "text/plain": [
              "  tipoIndustria  id_persocup  CVE_Ent  Semifijo\n",
              "0            23            1        2         0\n",
              "1            61            5        2         0\n",
              "2            56            1        1         0\n",
              "3            43            2       25         0\n",
              "4            81            2       30         0"
            ]
          },
          "metadata": {
            "tags": []
          },
          "execution_count": 14
        }
      ]
    },
    {
      "cell_type": "markdown",
      "metadata": {
        "id": "PxjaoJphnVFe",
        "colab_type": "text"
      },
      "source": [
        "#### Generación de datos de entrenamiento y prueba"
      ]
    },
    {
      "cell_type": "code",
      "metadata": {
        "id": "IrHbpUTsnVFp",
        "colab_type": "code",
        "colab": {}
      },
      "source": [
        "from sklearn.model_selection import train_test_split\n",
        "x_train, x_test, y_train, y_test = train_test_split(b[[\"id_persocup\",\"CVE_Ent\",\"Semifijo\"]], b[[\"id_modeloCierre\"]], test_size=0.25, random_state=0)"
      ],
      "execution_count": 0,
      "outputs": []
    },
    {
      "cell_type": "markdown",
      "metadata": {
        "id": "dS0j3la_nVGP",
        "colab_type": "text"
      },
      "source": [
        "####Creación del modelo"
      ]
    },
    {
      "cell_type": "code",
      "metadata": {
        "id": "eYerVVIGnVGg",
        "colab_type": "code",
        "colab": {
          "base_uri": "https://localhost:8080/",
          "height": 139
        },
        "outputId": "d5cef5da-7f3b-4c6a-acfc-4c19824588ae"
      },
      "source": [
        "# Crear modelo de regresión logística\n",
        "from sklearn import svm\n",
        "modelo = svm.SVC()\n",
        "modelo.fit(x_train,y_train)\n"
      ],
      "execution_count": 24,
      "outputs": [
        {
          "output_type": "stream",
          "text": [
            "/usr/local/lib/python3.6/dist-packages/sklearn/utils/validation.py:760: DataConversionWarning: A column-vector y was passed when a 1d array was expected. Please change the shape of y to (n_samples, ), for example using ravel().\n",
            "  y = column_or_1d(y, warn=True)\n"
          ],
          "name": "stderr"
        },
        {
          "output_type": "execute_result",
          "data": {
            "text/plain": [
              "SVC(C=1.0, break_ties=False, cache_size=200, class_weight=None, coef0=0.0,\n",
              "    decision_function_shape='ovr', degree=3, gamma='scale', kernel='rbf',\n",
              "    max_iter=-1, probability=False, random_state=None, shrinking=True,\n",
              "    tol=0.001, verbose=False)"
            ]
          },
          "metadata": {
            "tags": []
          },
          "execution_count": 24
        }
      ]
    },
    {
      "cell_type": "markdown",
      "metadata": {
        "id": "XFSUAarmnVHv",
        "colab_type": "text"
      },
      "source": [
        "#### Evaluación del modelo"
      ]
    },
    {
      "cell_type": "code",
      "metadata": {
        "id": "_Jf3m_zVnVH3",
        "colab_type": "code",
        "colab": {
          "base_uri": "https://localhost:8080/",
          "height": 436
        },
        "outputId": "63a077d9-1da7-4455-a7e4-597843df3cfa"
      },
      "source": [
        "# Estimar la clase\n",
        "y_pred = modelo.predict(x_test)\n",
        "print(y_pred)\n",
        "x_test"
      ],
      "execution_count": 25,
      "outputs": [
        {
          "output_type": "stream",
          "text": [
            "[2 2 2 ... 2 2 2]\n"
          ],
          "name": "stdout"
        },
        {
          "output_type": "execute_result",
          "data": {
            "text/html": [
              "<div>\n",
              "<style scoped>\n",
              "    .dataframe tbody tr th:only-of-type {\n",
              "        vertical-align: middle;\n",
              "    }\n",
              "\n",
              "    .dataframe tbody tr th {\n",
              "        vertical-align: top;\n",
              "    }\n",
              "\n",
              "    .dataframe thead th {\n",
              "        text-align: right;\n",
              "    }\n",
              "</style>\n",
              "<table border=\"1\" class=\"dataframe\">\n",
              "  <thead>\n",
              "    <tr style=\"text-align: right;\">\n",
              "      <th></th>\n",
              "      <th>id_persocup</th>\n",
              "      <th>CVE_Ent</th>\n",
              "      <th>Semifijo</th>\n",
              "    </tr>\n",
              "  </thead>\n",
              "  <tbody>\n",
              "    <tr>\n",
              "      <th>13021</th>\n",
              "      <td>3</td>\n",
              "      <td>26</td>\n",
              "      <td>0</td>\n",
              "    </tr>\n",
              "    <tr>\n",
              "      <th>772</th>\n",
              "      <td>3</td>\n",
              "      <td>19</td>\n",
              "      <td>0</td>\n",
              "    </tr>\n",
              "    <tr>\n",
              "      <th>11043</th>\n",
              "      <td>6</td>\n",
              "      <td>19</td>\n",
              "      <td>0</td>\n",
              "    </tr>\n",
              "    <tr>\n",
              "      <th>14232</th>\n",
              "      <td>1</td>\n",
              "      <td>8</td>\n",
              "      <td>0</td>\n",
              "    </tr>\n",
              "    <tr>\n",
              "      <th>9034</th>\n",
              "      <td>4</td>\n",
              "      <td>15</td>\n",
              "      <td>0</td>\n",
              "    </tr>\n",
              "    <tr>\n",
              "      <th>...</th>\n",
              "      <td>...</td>\n",
              "      <td>...</td>\n",
              "      <td>...</td>\n",
              "    </tr>\n",
              "    <tr>\n",
              "      <th>4446</th>\n",
              "      <td>3</td>\n",
              "      <td>11</td>\n",
              "      <td>0</td>\n",
              "    </tr>\n",
              "    <tr>\n",
              "      <th>5697</th>\n",
              "      <td>3</td>\n",
              "      <td>15</td>\n",
              "      <td>0</td>\n",
              "    </tr>\n",
              "    <tr>\n",
              "      <th>5095</th>\n",
              "      <td>1</td>\n",
              "      <td>31</td>\n",
              "      <td>0</td>\n",
              "    </tr>\n",
              "    <tr>\n",
              "      <th>2584</th>\n",
              "      <td>3</td>\n",
              "      <td>11</td>\n",
              "      <td>0</td>\n",
              "    </tr>\n",
              "    <tr>\n",
              "      <th>8306</th>\n",
              "      <td>3</td>\n",
              "      <td>15</td>\n",
              "      <td>0</td>\n",
              "    </tr>\n",
              "  </tbody>\n",
              "</table>\n",
              "<p>4025 rows × 3 columns</p>\n",
              "</div>"
            ],
            "text/plain": [
              "       id_persocup  CVE_Ent  Semifijo\n",
              "13021            3       26         0\n",
              "772              3       19         0\n",
              "11043            6       19         0\n",
              "14232            1        8         0\n",
              "9034             4       15         0\n",
              "...            ...      ...       ...\n",
              "4446             3       11         0\n",
              "5697             3       15         0\n",
              "5095             1       31         0\n",
              "2584             3       11         0\n",
              "8306             3       15         0\n",
              "\n",
              "[4025 rows x 3 columns]"
            ]
          },
          "metadata": {
            "tags": []
          },
          "execution_count": 25
        }
      ]
    },
    {
      "cell_type": "code",
      "metadata": {
        "id": "7GOUfxvdnVJ0",
        "colab_type": "code",
        "colab": {
          "base_uri": "https://localhost:8080/",
          "height": 394
        },
        "outputId": "76de4308-6a4f-4c1d-8063-1c797fcf1a74"
      },
      "source": [
        "from sklearn.metrics import classification_report\n",
        "print(classification_report(y_test,y_pred))"
      ],
      "execution_count": 27,
      "outputs": [
        {
          "output_type": "stream",
          "text": [
            "              precision    recall  f1-score   support\n",
            "\n",
            "           1       0.00      0.00      0.00       227\n",
            "           2       0.40      1.00      0.57      1603\n",
            "           3       0.00      0.00      0.00       410\n",
            "           4       0.00      0.00      0.00       177\n",
            "           5       0.00      0.00      0.00       119\n",
            "           6       0.00      0.00      0.00       539\n",
            "           7       0.00      0.00      0.00         9\n",
            "           8       0.00      0.00      0.00         4\n",
            "           9       0.00      0.00      0.00       269\n",
            "          10       0.00      0.00      0.00       143\n",
            "          11       0.00      0.00      0.00       114\n",
            "          12       0.00      0.00      0.00       411\n",
            "\n",
            "    accuracy                           0.40      4025\n",
            "   macro avg       0.03      0.08      0.05      4025\n",
            "weighted avg       0.16      0.40      0.23      4025\n",
            "\n"
          ],
          "name": "stdout"
        },
        {
          "output_type": "stream",
          "text": [
            "/usr/local/lib/python3.6/dist-packages/sklearn/metrics/_classification.py:1272: UndefinedMetricWarning: Precision and F-score are ill-defined and being set to 0.0 in labels with no predicted samples. Use `zero_division` parameter to control this behavior.\n",
            "  _warn_prf(average, modifier, msg_start, len(result))\n"
          ],
          "name": "stderr"
        }
      ]
    },
    {
      "cell_type": "code",
      "metadata": {
        "id": "tkKC7vvQnVKW",
        "colab_type": "code",
        "colab": {
          "base_uri": "https://localhost:8080/",
          "height": 221
        },
        "outputId": "bbc6522b-7172-4dd0-c23a-edd936111fd3"
      },
      "source": [
        "from sklearn.metrics import confusion_matrix\n",
        "cm = confusion_matrix(y_test,y_pred)\n",
        "\n",
        "print(cm)"
      ],
      "execution_count": 28,
      "outputs": [
        {
          "output_type": "stream",
          "text": [
            "[[   0  227    0    0    0    0    0    0    0    0    0    0]\n",
            " [   0 1603    0    0    0    0    0    0    0    0    0    0]\n",
            " [   0  410    0    0    0    0    0    0    0    0    0    0]\n",
            " [   0  177    0    0    0    0    0    0    0    0    0    0]\n",
            " [   0  119    0    0    0    0    0    0    0    0    0    0]\n",
            " [   0  539    0    0    0    0    0    0    0    0    0    0]\n",
            " [   0    9    0    0    0    0    0    0    0    0    0    0]\n",
            " [   0    4    0    0    0    0    0    0    0    0    0    0]\n",
            " [   0  269    0    0    0    0    0    0    0    0    0    0]\n",
            " [   0  143    0    0    0    0    0    0    0    0    0    0]\n",
            " [   0  114    0    0    0    0    0    0    0    0    0    0]\n",
            " [   0  411    0    0    0    0    0    0    0    0    0    0]]\n"
          ],
          "name": "stdout"
        }
      ]
    },
    {
      "cell_type": "code",
      "metadata": {
        "id": "hr8kQVrmnVK-",
        "colab_type": "code",
        "colab": {
          "base_uri": "https://localhost:8080/",
          "height": 297
        },
        "outputId": "28000905-0e38-48c6-e511-1d0a6677bbed"
      },
      "source": [
        "import seaborn as sns\n",
        "import matplotlib.pyplot as plt\n",
        "\n",
        "score = modelo.score(x_test,y_test)\n",
        "\n",
        "sns.heatmap(cm, annot=True, fmt=\".1f\", linewidths=2, square = True, cmap = 'Blues_r');\n",
        "plt.ylabel('Actual label');\n",
        "plt.xlabel('Predicted label');\n",
        "all_sample_title = 'Accuracy Score: {0}'.format(score)\n",
        "plt.title(all_sample_title, size = 15);"
      ],
      "execution_count": 29,
      "outputs": [
        {
          "output_type": "display_data",
          "data": {
            "image/png": "[encoded data removed]",
            "text/plain": [
              "<Figure size 432x288 with 2 Axes>"
            ]
          },
          "metadata": {
            "tags": []
          }
        }
      ]
    },
    {
      "cell_type": "code",
      "metadata": {
        "id": "JUgnFM8vnVLi",
        "colab_type": "code",
        "colab": {}
      },
      "source": [
        ""
      ],
      "execution_count": 0,
      "outputs": []
    }
  ]
}